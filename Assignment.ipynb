{
 "cells": [
  {
   "cell_type": "code",
   "execution_count": null,
   "metadata": {},
   "outputs": [],
   "source": [
    "import numpy as np\n",
    "import matplotlib.pyplot as plt\n",
    "\n",
    "histo = {}\n",
    "with open(\"test.txt\") as file:\n",
    "    for i in file:\n",
    "        for keys in i.lower():\n",
    "            if keys not in [\"\\0\", \"\\n\", \",\", \" \"]:\n",
    "                histo[keys] = histo.get(keys, 0) + 1\n",
    "histogram = dict(sorted(histo.items(), key=lambda x: x[0].lower()))\n",
    "print(\"histogram\", histogram)\n",
    "\n",
    "list_values = list(histogram.values())\n",
    "array = np.array(list_values)\n",
    "print(array.shape)\n",
    "print(\"numpy_array\", array)\n",
    "\n",
    "normalized_array = []\n",
    "arr_sum = sum(array)\n",
    "for i in array:\n",
    "    normalized_array.append(i / arr_sum)\n",
    "print(normalized_array)\n",
    "print(sum(normalized_array))\n",
    "plt.bar(list(histogram.keys()), histogram.values(), color='r')\n",
    "plt.show()\n",
    "plt.bar(np.arange(len(normalized_array)), normalized_array)\n",
    "plt.show()\n"
   ]
  },
  {
   "cell_type": "code",
   "execution_count": null,
   "metadata": {},
   "outputs": [],
   "source": [
    "import cv2\n",
    "import numpy as np\n",
    "\n",
    "image = cv2.imread(\"test.png\")\n",
    "row, col, _ = image.shape\n",
    "y = row // 2\n",
    "x = col // 2\n",
    "\n",
    "converted_image = image.copy()\n",
    "rows, cols, _ = converted_image.shape\n",
    "count = 0\n",
    "for i in range(rows):\n",
    "    for j in range(cols):\n",
    "        k = converted_image[i, j]\n",
    "        point1 = [255, 0, 0]\n",
    "        point2 = [0, 255, 0]\n",
    "        point3 = [0, 0, 255]\n",
    "        dis_list = []\n",
    "        euc1 = dis_list.append(np.sqrt(np.sum(np.square(k - point1))))\n",
    "        euc2 = dis_list.append(np.sqrt(np.sum(np.square(k - point2))))\n",
    "        euc3 = dis_list.append(np.sqrt(np.sum(np.square(k - point3))))\n",
    "        if dis_list.index(min(dis_list)) == 0:\n",
    "            converted_image[i, j] = point1\n",
    "        if dis_list.index(min(dis_list)) == 1:\n",
    "            converted_image[i, j] = point2\n",
    "        if dis_list.index(min(dis_list)) == 2:\n",
    "            converted_image[i, j] = point3\n",
    "\n",
    "\n",
    "cv2.imwrite('output1.png',converted_image)\n",
    "image[int(y-25):int(y + 25), int(x-25):int(x + 25)] = [0,0,0]\n",
    "\n",
    "cv2.imwrite('output2.png', image)"
   ]
  },
  {
   "cell_type": "code",
   "execution_count": null,
   "metadata": {},
   "outputs": [],
   "source": [
    "equation_1 = np.array([[3,3],[4,2]])\n",
    "equation_2 = np.array([11.25,10])\n",
    "\n",
    "print(np.linalg.inv(equation_1).dot(equation_2))"
   ]
  }
 ],
 "metadata": {
  "kernelspec": {
   "display_name": "Python 3.10.2 64-bit",
   "language": "python",
   "name": "python3"
  },
  "language_info": {
   "name": "python",
   "version": "3.10.2"
  },
  "orig_nbformat": 4,
  "vscode": {
   "interpreter": {
    "hash": "26de051ba29f2982a8de78e945f0abaf191376122a1563185a90213a26c5da77"
   }
  }
 },
 "nbformat": 4,
 "nbformat_minor": 2
}
