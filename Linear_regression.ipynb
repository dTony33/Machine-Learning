{
  "nbformat": 4,
  "nbformat_minor": 0,
  "metadata": {
    "colab": {
      "provenance": [],
      "authorship_tag": "ABX9TyPZGCucFXE3gT3WJq4JJSG7",
      "include_colab_link": true
    },
    "kernelspec": {
      "name": "python3",
      "display_name": "Python 3"
    },
    "language_info": {
      "name": "python"
    }
  },
  "cells": [
    {
      "cell_type": "markdown",
      "metadata": {
        "id": "view-in-github",
        "colab_type": "text"
      },
      "source": [
        "<a href=\"https://colab.research.google.com/github/dTony33/Machine-Learning/blob/main/Linear_regression.ipynb\" target=\"_parent\"><img src=\"https://colab.research.google.com/assets/colab-badge.svg\" alt=\"Open In Colab\"/></a>"
      ]
    },
    {
      "cell_type": "code",
      "execution_count": 1,
      "metadata": {
        "colab": {
          "base_uri": "https://localhost:8080/"
        },
        "id": "QJtjspZgRsxs",
        "outputId": "4b03bed9-04c1-4aca-8e25-3fb916a7e8b8"
      },
      "outputs": [
        {
          "output_type": "stream",
          "name": "stdout",
          "text": [
            "Drive already mounted at /content/drive; to attempt to forcibly remount, call drive.mount(\"/content/drive\", force_remount=True).\n"
          ]
        }
      ],
      "source": [
        "from google.colab import drive\n",
        "drive.mount('/content/drive')"
      ]
    },
    {
      "cell_type": "markdown",
      "source": [
        "**Loading the given dataset**"
      ],
      "metadata": {
        "id": "VOInVUpMVBkM"
      }
    },
    {
      "cell_type": "code",
      "source": [
        "import numpy as np\n",
        "x_train = np.load('/content/drive/MyDrive/ML Datasets/x_train.npy')\n",
        "x_test = np.load('/content/drive/MyDrive/ML Datasets/x_test.npy')\n",
        "y_train = np.load('/content/drive/MyDrive/ML Datasets/y_train.npy')\n",
        "y_test = np.load('/content/drive/MyDrive/ML Datasets/y_test.npy')\n"
      ],
      "metadata": {
        "id": "Vm5ptmUESFig"
      },
      "execution_count": 2,
      "outputs": []
    },
    {
      "cell_type": "code",
      "source": [
        "x_train.shape, y_train.shape"
      ],
      "metadata": {
        "colab": {
          "base_uri": "https://localhost:8080/"
        },
        "id": "1SmFL2tUTAk-",
        "outputId": "2c092483-3bd7-42e0-d007-a173b69c52fc"
      },
      "execution_count": 3,
      "outputs": [
        {
          "output_type": "execute_result",
          "data": {
            "text/plain": [
              "((100, 1), (100,))"
            ]
          },
          "metadata": {},
          "execution_count": 3
        }
      ]
    },
    {
      "cell_type": "markdown",
      "source": [
        "**Since the shape of y_trainig is not as same as the x_training, I am changing the shape of the y as same as X**"
      ],
      "metadata": {
        "id": "detOxA0hVGFf"
      }
    },
    {
      "cell_type": "code",
      "source": [
        "y_train =y_train.reshape(100,1)"
      ],
      "metadata": {
        "id": "SHQ5WI0-TJw7"
      },
      "execution_count": 4,
      "outputs": []
    },
    {
      "cell_type": "code",
      "source": [
        "x_train.shape"
      ],
      "metadata": {
        "colab": {
          "base_uri": "https://localhost:8080/"
        },
        "id": "7TPOXVTzTOY4",
        "outputId": "5b54f692-1fef-406c-ec72-c64d28b3b3b9"
      },
      "execution_count": 28,
      "outputs": [
        {
          "output_type": "execute_result",
          "data": {
            "text/plain": [
              "(100, 1)"
            ]
          },
          "metadata": {},
          "execution_count": 28
        }
      ]
    },
    {
      "cell_type": "code",
      "source": [
        "import matplotlib.pyplot as plt\n",
        "\n",
        "plt.plot(x_train,y_train,'r.')\n",
        "plt.plot(x_test,y_test,'b.')\n",
        "plt.show()"
      ],
      "metadata": {
        "colab": {
          "base_uri": "https://localhost:8080/",
          "height": 265
        },
        "id": "mHo_wCO1TQTd",
        "outputId": "057e39a5-fa10-4015-f130-0b239d8a4d18"
      },
      "execution_count": 6,
      "outputs": [
        {
          "output_type": "display_data",
          "data": {
            "text/plain": [
              "<Figure size 432x288 with 1 Axes>"
            ],
            "image/png": "[encoded data removed]"
          },
          "metadata": {
            "needs_background": "light"
          }
        }
      ]
    },
    {
      "cell_type": "markdown",
      "source": [
        "# Linear Regression\n",
        "**Preliminary Analysis**\n",
        "\n",
        "\n",
        "By above plotting it is observed is data has some linearity between x and y values for both the datasets of training and testing. \n",
        "\n",
        "# Algorithm\n",
        "**Since the data is very small, I am asuming we can achieve the linear equation usig gradient descent in no time with less number of iterations and less number of epochs.**\n",
        "\n",
        "**So my approach is going to be Finding the predictions uing the Normal Equations**"
      ],
      "metadata": {
        "id": "T_ypKKyTUGht"
      }
    },
    {
      "cell_type": "markdown",
      "source": [
        "****\n",
        "**Finding Theta**\n",
        "---\n",
        "Equation for the normal equations is \n",
        "\n",
        "Theta = (X.T *X)-1 * X.T * y_hat\n"
      ],
      "metadata": {
        "id": "m2eSNgGmVTm6"
      }
    },
    {
      "cell_type": "code",
      "source": [
        "X_cap = np.append(x_train,np.ones((x_train.shape[0],1)),axis =1)"
      ],
      "metadata": {
        "id": "P8pu5QycYP_T"
      },
      "execution_count": 16,
      "outputs": []
    },
    {
      "cell_type": "code",
      "source": [
        "def theta(x,y):\n",
        "  m,n = x.shape\n",
        "  theta = np.dot(np.linalg.inv(np.dot(x.T,x)),np.dot(x.T,y))\n",
        "  return theta"
      ],
      "metadata": {
        "id": "4f_sm1n9T-BK"
      },
      "execution_count": 17,
      "outputs": []
    },
    {
      "cell_type": "code",
      "source": [
        "theta = theta(X_cap,y_train)\n",
        "theta"
      ],
      "metadata": {
        "colab": {
          "base_uri": "https://localhost:8080/"
        },
        "id": "15Hs7LzIY58f",
        "outputId": "a477b462-5424-4a3d-d435-468d663ef5ff"
      },
      "execution_count": 18,
      "outputs": [
        {
          "output_type": "execute_result",
          "data": {
            "text/plain": [
              "array([[3.30656683],\n",
              "       [6.19321416]])"
            ]
          },
          "metadata": {},
          "execution_count": 18
        }
      ]
    },
    {
      "cell_type": "code",
      "source": [
        "def prediction(x_test, theta):\n",
        "  x = np.append(x_test,np.ones((x_test.shape[0],1)),axis =1)\n",
        "  predictions = np.dot(x,theta)\n",
        "  return predictions\n"
      ],
      "metadata": {
        "id": "2x3_oPf8Zv4t"
      },
      "execution_count": 10,
      "outputs": []
    },
    {
      "cell_type": "code",
      "source": [
        "predicted_data = prediction(x_test,theta)"
      ],
      "metadata": {
        "id": "X18P0a9naWnv"
      },
      "execution_count": 11,
      "outputs": []
    },
    {
      "cell_type": "code",
      "source": [
        "plt.plot(x_train,y_train,'b.')\n",
        "plt.plot(x_test,predicted_data,'r-')\n",
        "plt.show()\n"
      ],
      "metadata": {
        "colab": {
          "base_uri": "https://localhost:8080/",
          "height": 265
        },
        "id": "G5isnF6JZJdc",
        "outputId": "773411ab-5c38-43df-e1a1-827c3c5a1bdc"
      },
      "execution_count": 12,
      "outputs": [
        {
          "output_type": "display_data",
          "data": {
            "text/plain": [
              "<Figure size 432x288 with 1 Axes>"
            ],
            "image/png": "[encoded data removed]"
          },
          "metadata": {
            "needs_background": "light"
          }
        }
      ]
    },
    {
      "cell_type": "markdown",
      "source": [],
      "metadata": {
        "id": "BSvsSSCl0stI"
      }
    },
    {
      "cell_type": "markdown",
      "source": [
        "**Problem 3**\n",
        "* Since we had to calculate weight for value and update using tau value *\n",
        "\n",
        "**Need to change the architecture of theta to read the data at every point**"
      ],
      "metadata": {
        "id": "E2SmS_cm2pPR"
      }
    },
    {
      "cell_type": "code",
      "source": [
        "#Problem 3\n",
        "def locally_weighted(x,y,local,tau):\n",
        "  m,n = x.shape\n",
        "  x_hat = np.append(x,np.ones(m).reshape(m,1),axis =1)\n",
        "  local = np.array([local,1])\n",
        "  w = np.mat(np.identity(m))\n",
        "  for i in range(m):\n",
        "    x = x_hat[i]\n",
        "    d = (-2 * tau * tau)\n",
        "    w[i,i] = np.exp(np.dot((x-local), (x-local).T)/d)\n",
        "  updated_theta = np.linalg.pinv(x_hat.T*(w*x_hat))*(x_hat.T*(w*y))\n",
        "  prediction = np.dot(local,updated_theta)\n",
        "  return updated_theta, prediction\n",
        "\n"
      ],
      "metadata": {
        "id": "XvaOLHRNZolH"
      },
      "execution_count": 10,
      "outputs": []
    },
    {
      "cell_type": "code",
      "source": [
        "prediction_array = []\n",
        "for local in x_test:\n",
        "  theta_values, prediction = locally_weighted(x_train,y_train,local,0.01)\n",
        "  prediction_array.append(prediction)\n",
        "prediction_array = np.array(prediction_array).reshape(100,1)\n",
        "plt.plot(x_train,y_train,'b.')\n",
        "plt.plot(x_test,prediction_array,'r.')\n",
        "plt.show()  "
      ],
      "metadata": {
        "colab": {
          "base_uri": "https://localhost:8080/",
          "height": 320
        },
        "id": "nlgZs9RR88JW",
        "outputId": "a6f11281-b766-4f05-c677-3dfc59d6955c"
      },
      "execution_count": 11,
      "outputs": [
        {
          "output_type": "stream",
          "name": "stderr",
          "text": [
            "/usr/local/lib/python3.7/dist-packages/ipykernel_launcher.py:5: VisibleDeprecationWarning: Creating an ndarray from ragged nested sequences (which is a list-or-tuple of lists-or-tuples-or ndarrays with different lengths or shapes) is deprecated. If you meant to do this, you must specify 'dtype=object' when creating the ndarray.\n",
            "  \"\"\"\n"
          ]
        },
        {
          "output_type": "display_data",
          "data": {
            "text/plain": [
              "<Figure size 432x288 with 1 Axes>"
            ],
            "image/png": "[encoded data removed]"
          },
          "metadata": {
            "needs_background": "light"
          }
        }
      ]
    },
    {
      "cell_type": "markdown",
      "source": [
        "# House Prediction\n"
      ],
      "metadata": {
        "id": "AGs1WFD5EAr0"
      }
    },
    {
      "cell_type": "code",
      "source": [
        "import pandas as pd\n",
        "df_data = pd.read_csv('/content/drive/MyDrive/ML Datasets/Assignment1_Q2_Data.csv')"
      ],
      "metadata": {
        "id": "ct9FNvre9aW-"
      },
      "execution_count": 13,
      "outputs": []
    },
    {
      "cell_type": "code",
      "source": [
        "house_x_train = df_data[['Local Price', 'Bathrooms', 'Living area', '# Rooms',]]\n",
        "house_x_train = (house_x_train-house_x_train.mean())/house_x_train.std()\n",
        "house_y_train = df_data[['Price (1000$)']]\n",
        "house_y_train = house_y_train.to_numpy()\n",
        "house_x_train = house_x_train.to_numpy()"
      ],
      "metadata": {
        "id": "evcupchNGGeN"
      },
      "execution_count": 31,
      "outputs": []
    },
    {
      "cell_type": "code",
      "source": [
        "house_y_train.shape"
      ],
      "metadata": {
        "colab": {
          "base_uri": "https://localhost:8080/"
        },
        "id": "WMrWZ79fNIh2",
        "outputId": "250a9936-8d8e-45ae-a903-009cf50a69ff"
      },
      "execution_count": 32,
      "outputs": [
        {
          "output_type": "execute_result",
          "data": {
            "text/plain": [
              "(28, 1)"
            ]
          },
          "metadata": {},
          "execution_count": 32
        }
      ]
    },
    {
      "cell_type": "code",
      "source": [
        "m,n = house_x_train.shape\n",
        "theta_house = np.dot(np.linalg.inv(np.dot(house_x_train.T,house_x_train)),np.dot(house_x_train.T,house_y_train))"
      ],
      "metadata": {
        "id": "0MxlMErHIOzn"
      },
      "execution_count": 33,
      "outputs": []
    },
    {
      "cell_type": "code",
      "source": [
        "theta_house"
      ],
      "metadata": {
        "colab": {
          "base_uri": "https://localhost:8080/"
        },
        "id": "bIDjg3vXOQqG",
        "outputId": "5b56757a-3b8f-4ad0-d747-aab7bbd8ef38"
      },
      "execution_count": 34,
      "outputs": [
        {
          "output_type": "execute_result",
          "data": {
            "text/plain": [
              "array([[ 5.77857712],\n",
              "       [ 3.40625016],\n",
              "       [ 5.84386186],\n",
              "       [-0.82966945]])"
            ]
          },
          "metadata": {},
          "execution_count": 34
        }
      ]
    },
    {
      "cell_type": "code",
      "source": [
        "# x_house = np.append(house_x_train,np.ones((house_x_train.shape[0],1)),axis =1)\n",
        "predictions_house = np.dot(house_x_train,theta_house)"
      ],
      "metadata": {
        "id": "sJbKUuh0OvWO"
      },
      "execution_count": 38,
      "outputs": []
    },
    {
      "cell_type": "code",
      "source": [
        "np.average(theta_house)"
      ],
      "metadata": {
        "colab": {
          "base_uri": "https://localhost:8080/"
        },
        "id": "AOEBvH2_PqlV",
        "outputId": "b2a321a1-1ef8-4296-f1c0-69854af5762d"
      },
      "execution_count": 48,
      "outputs": [
        {
          "output_type": "execute_result",
          "data": {
            "text/plain": [
              "3.549754925776483"
            ]
          },
          "metadata": {},
          "execution_count": 48
        }
      ]
    },
    {
      "cell_type": "markdown",
      "source": [
        "# Answers for the question\n",
        "\n",
        "\n",
        "1.   \n",
        "a.\n",
        "Yes, the relation is linear and \n",
        "converged with theta\n",
        "2.b: Since we got different theta value which is considered as mean squared errors, we can add some non linearity which will be helped in reducing the mean value.\n",
        "This can be done by one the example, closed form normal equation\n",
        "\n"
      ],
      "metadata": {
        "id": "V6SsSqFoSa_c"
      }
    },
    {
      "cell_type": "markdown",
      "source": [
        "2.1:\n",
        "average least squares of the housing problem i got is 3.549 \n",
        "\n"
      ],
      "metadata": {
        "id": "FPKhnm1NVGef"
      }
    },
    {
      "cell_type": "markdown",
      "source": [
        "2.2: when plotted the correlation i can see that number of rooms and area has most effect on the final value. That's the reason i used those values in predicting the prices. We can also use bathrooms and price of the area\n",
        "\n",
        "2.3: age of the house has no effect on the data. there wont be any effect if we remove this data"
      ],
      "metadata": {
        "id": "XMOSPmU2VcK5"
      }
    },
    {
      "cell_type": "markdown",
      "source": [],
      "metadata": {
        "id": "nfQee7xrVaAk"
      }
    },
    {
      "cell_type": "markdown",
      "source": [
        "3.1: yes we need basis function in this problem. Which is updated for every point of the data\n",
        "3.2: In Normal linear regression, weights act as a cummulative weights for the entire dataset. Where as in Locally weighted Linear regression weights change for the every point of the data point in the dataset"
      ],
      "metadata": {
        "id": "h3W22rakWHeN"
      }
    },
    {
      "cell_type": "code",
      "source": [],
      "metadata": {
        "id": "v3GLK1p0Rlsb"
      },
      "execution_count": null,
      "outputs": []
    }
  ]
}