{
  "nbformat": 4,
  "nbformat_minor": 0,
  "metadata": {
    "colab": {
      "provenance": [],
      "authorship_tag": "ABX9TyNYYXoc/fpptp+KIONLqK51",
      "include_colab_link": true
    },
    "kernelspec": {
      "name": "python3",
      "display_name": "Python 3"
    },
    "language_info": {
      "name": "python"
    }
  },
  "cells": [
    {
      "cell_type": "markdown",
      "metadata": {
        "id": "view-in-github",
        "colab_type": "text"
      },
      "source": [
        "<a href=\"https://colab.research.google.com/github/dTony33/Machine-Learning/blob/main/Linear_regression.ipynb\" target=\"_parent\"><img src=\"https://colab.research.google.com/assets/colab-badge.svg\" alt=\"Open In Colab\"/></a>"
      ]
    },
    {
      "cell_type": "code",
      "execution_count": 22,
      "metadata": {
        "colab": {
          "base_uri": "https://localhost:8080/"
        },
        "id": "QJtjspZgRsxs",
        "outputId": "fec72003-03ad-4525-83bb-f0b35aade55b"
      },
      "outputs": [
        {
          "output_type": "stream",
          "name": "stdout",
          "text": [
            "Drive already mounted at /content/drive; to attempt to forcibly remount, call drive.mount(\"/content/drive\", force_remount=True).\n"
          ]
        }
      ],
      "source": [
        "from google.colab import drive\n",
        "drive.mount('/content/drive')"
      ]
    },
    {
      "cell_type": "markdown",
      "source": [
        "**Loading the given dataset**"
      ],
      "metadata": {
        "id": "VOInVUpMVBkM"
      }
    },
    {
      "cell_type": "code",
      "source": [
        "import numpy as np\n",
        "x_train = np.load('/content/drive/MyDrive/ML Datasets/x_train.npy')\n",
        "x_test = np.load('/content/drive/MyDrive/ML Datasets/x_test.npy')\n",
        "y_train = np.load('/content/drive/MyDrive/ML Datasets/y_train.npy')\n",
        "y_test = np.load('/content/drive/MyDrive/ML Datasets/y_test.npy')"
      ],
      "metadata": {
        "id": "Vm5ptmUESFig"
      },
      "execution_count": 23,
      "outputs": []
    },
    {
      "cell_type": "code",
      "source": [
        "x_train.shape, y_train.shape"
      ],
      "metadata": {
        "colab": {
          "base_uri": "https://localhost:8080/"
        },
        "id": "1SmFL2tUTAk-",
        "outputId": "3c2752eb-8cc6-48dd-f064-f841abae515a"
      },
      "execution_count": 24,
      "outputs": [
        {
          "output_type": "execute_result",
          "data": {
            "text/plain": [
              "((100, 1), (100,))"
            ]
          },
          "metadata": {},
          "execution_count": 24
        }
      ]
    },
    {
      "cell_type": "markdown",
      "source": [
        "**Since the shape of y_trainig is not as same as the x_training, I am changing the shape of the y as same as X**"
      ],
      "metadata": {
        "id": "detOxA0hVGFf"
      }
    },
    {
      "cell_type": "code",
      "source": [
        "y_train =y_train.reshape(100,1)"
      ],
      "metadata": {
        "id": "SHQ5WI0-TJw7"
      },
      "execution_count": 25,
      "outputs": []
    },
    {
      "cell_type": "code",
      "source": [
        "x_train.shape, y_train.shape"
      ],
      "metadata": {
        "colab": {
          "base_uri": "https://localhost:8080/"
        },
        "id": "7TPOXVTzTOY4",
        "outputId": "c0c819ec-6168-40cd-c0c4-8751f86289fd"
      },
      "execution_count": 26,
      "outputs": [
        {
          "output_type": "execute_result",
          "data": {
            "text/plain": [
              "((100, 1), (100, 1))"
            ]
          },
          "metadata": {},
          "execution_count": 26
        }
      ]
    },
    {
      "cell_type": "code",
      "source": [
        "import matplotlib.pyplot as plt\n",
        "\n",
        "plt.plot(x_train,y_train,'r.')\n",
        "plt.plot(x_test,y_test,'b.')\n",
        "plt.show()"
      ],
      "metadata": {
        "colab": {
          "base_uri": "https://localhost:8080/",
          "height": 265
        },
        "id": "mHo_wCO1TQTd",
        "outputId": "5d729644-bf29-4bf2-896c-9306a6d2cfcc"
      },
      "execution_count": 27,
      "outputs": [
        {
          "output_type": "display_data",
          "data": {
            "text/plain": [
              "<Figure size 432x288 with 1 Axes>"
            ],
            "image/png": "[encoded data removed]"
          },
          "metadata": {
            "needs_background": "light"
          }
        }
      ]
    },
    {
      "cell_type": "markdown",
      "source": [
        "# Linear Regression\n",
        "**Preliminary Analysis**\n",
        "\n",
        "\n",
        "By above plotting it is observed is data has some linearity between x and y values for both the datasets of training and testing. \n",
        "\n",
        "# Algorithm\n",
        "**Since the data is very small, I am asuming we can achieve the linear equation usig gradient descent in no time with less number of iterations and less number of epochs.**\n",
        "\n",
        "**So my approach is going to be Finding the predictions uing the Normal Equations**"
      ],
      "metadata": {
        "id": "T_ypKKyTUGht"
      }
    },
    {
      "cell_type": "markdown",
      "source": [
        "****\n",
        "**Finding Theta**\n",
        "---\n",
        "Equation for the normal equations is \n",
        "\n",
        "Theta = (X.T *X)-1 * X.T * y_hat\n"
      ],
      "metadata": {
        "id": "m2eSNgGmVTm6"
      }
    },
    {
      "cell_type": "code",
      "source": [
        "X_cap = np.append(x_train,np.ones((x_train.shape[0],1)),axis =1)"
      ],
      "metadata": {
        "id": "P8pu5QycYP_T"
      },
      "execution_count": 28,
      "outputs": []
    },
    {
      "cell_type": "code",
      "source": [
        "def theta(x,y):\n",
        "  m,n = x.shape\n",
        "  theta = np.dot(np.linalg.inv(np.dot(x.T,x)),np.dot(x.T,y))\n",
        "  return theta"
      ],
      "metadata": {
        "id": "4f_sm1n9T-BK"
      },
      "execution_count": 29,
      "outputs": []
    },
    {
      "cell_type": "code",
      "source": [
        "theta = theta(X_cap,y_train)\n",
        "theta"
      ],
      "metadata": {
        "colab": {
          "base_uri": "https://localhost:8080/"
        },
        "id": "15Hs7LzIY58f",
        "outputId": "c5eed88e-a666-4224-bf69-1f415824305a"
      },
      "execution_count": 30,
      "outputs": [
        {
          "output_type": "execute_result",
          "data": {
            "text/plain": [
              "array([[3.30656683],\n",
              "       [6.19321416]])"
            ]
          },
          "metadata": {},
          "execution_count": 30
        }
      ]
    },
    {
      "cell_type": "code",
      "source": [
        "def prediction(x_test, theta):\n",
        "  x = np.append(x_test,np.ones((x_test.shape[0],1)),axis =1)\n",
        "  predictions = np.dot(x,theta)\n",
        "  return predictions\n"
      ],
      "metadata": {
        "id": "2x3_oPf8Zv4t"
      },
      "execution_count": 36,
      "outputs": []
    },
    {
      "cell_type": "code",
      "source": [
        "predicted_data = prediction(x_test,theta)"
      ],
      "metadata": {
        "id": "X18P0a9naWnv"
      },
      "execution_count": 37,
      "outputs": []
    },
    {
      "cell_type": "code",
      "source": [
        "plt.plot(x_train,y_train,'b.')\n",
        "plt.plot(x_test,predicted_data,'r-')\n",
        "plt.show()\n"
      ],
      "metadata": {
        "colab": {
          "base_uri": "https://localhost:8080/",
          "height": 265
        },
        "id": "G5isnF6JZJdc",
        "outputId": "ffa28846-092c-4836-8cc6-292b16d73827"
      },
      "execution_count": 41,
      "outputs": [
        {
          "output_type": "display_data",
          "data": {
            "text/plain": [
              "<Figure size 432x288 with 1 Axes>"
            ],
            "image/png": "[encoded data removed]"
          },
          "metadata": {
            "needs_background": "light"
          }
        }
      ]
    },
    {
      "cell_type": "code",
      "source": [],
      "metadata": {
        "id": "XvaOLHRNZolH"
      },
      "execution_count": null,
      "outputs": []
    }
  ]
}