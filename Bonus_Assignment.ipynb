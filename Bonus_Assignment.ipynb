{
  "nbformat": 4,
  "nbformat_minor": 0,
  "metadata": {
    "colab": {
      "provenance": [],
      "authorship_tag": "ABX9TyMtHOfTtCPd6zCvhXwQsVo+",
      "include_colab_link": true
    },
    "kernelspec": {
      "name": "python3",
      "display_name": "Python 3"
    },
    "language_info": {
      "name": "python"
    }
  },
  "cells": [
    {
      "cell_type": "markdown",
      "metadata": {
        "id": "view-in-github",
        "colab_type": "text"
      },
      "source": [
        "<a href=\"https://colab.research.google.com/github/dTony33/Machine-Learning/blob/main/Bonus_Assignment.ipynb\" target=\"_parent\"><img src=\"https://colab.research.google.com/assets/colab-badge.svg\" alt=\"Open In Colab\"/></a>"
      ]
    },
    {
      "cell_type": "code",
      "execution_count": 4,
      "metadata": {
        "colab": {
          "base_uri": "https://localhost:8080/"
        },
        "id": "OOafJuA2wxZ6",
        "outputId": "be47b47c-da9d-4dfb-9129-9287bf99c7c7"
      },
      "outputs": [
        {
          "output_type": "execute_result",
          "data": {
            "text/plain": [
              "(16384, 3)"
            ]
          },
          "metadata": {},
          "execution_count": 4
        }
      ],
      "source": [
        "import numpy as np\n",
        "import cv2 \n",
        "import matplotlib.pyplot as plt\n",
        "from scipy import misc\n",
        "img = cv2.imread('/content/input.png') \n",
        "img=img/255\n",
        "height, width, channels = np.shape(img)\n",
        "#pixel scaling\n",
        "img2=img.reshape(-1,3)\n",
        "img2.shape"
      ]
    },
    {
      "cell_type": "code",
      "source": [
        "def euc_dist(x1,x2,y1,y2):\n",
        "    d=np.square(x1-x2)+np.square(y1-y2)\n",
        "    d=np.sqrt(d)\n",
        "    return d"
      ],
      "metadata": {
        "id": "iqWBFqrpw0Qa"
      },
      "execution_count": 5,
      "outputs": []
    },
    {
      "cell_type": "code",
      "source": [],
      "metadata": {
        "id": "3btMzzznxbPj"
      },
      "execution_count": null,
      "outputs": []
    }
  ]
}