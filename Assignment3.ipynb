{
  "nbformat": 4,
  "nbformat_minor": 0,
  "metadata": {
    "colab": {
      "provenance": [],
      "authorship_tag": "ABX9TyN8V6F2gPBgH3fwjrUpL8ZD",
      "include_colab_link": true
    },
    "kernelspec": {
      "name": "python3",
      "display_name": "Python 3"
    },
    "language_info": {
      "name": "python"
    }
  },
  "cells": [
    {
      "cell_type": "markdown",
      "metadata": {
        "id": "view-in-github",
        "colab_type": "text"
      },
      "source": [
        "<a href=\"https://colab.research.google.com/github/dTony33/Machine-Learning/blob/main/Assignment3.ipynb\" target=\"_parent\"><img src=\"https://colab.research.google.com/assets/colab-badge.svg\" alt=\"Open In Colab\"/></a>"
      ]
    },
    {
      "cell_type": "code",
      "source": [
        "import numpy as np\n",
        "import matplotlib.pyplot as plt\n",
        "import tensorflow as tf\n",
        "\n",
        "from tensorflow import keras\n",
        "from keras.utils import np_utils\n",
        "from keras import datasets, layers, models\n",
        "from keras.optimizers import SGD, Adam, RMSprop"
      ],
      "metadata": {
        "id": "0r3zeKdIuib8"
      },
      "execution_count": 1,
      "outputs": []
    },
    {
      "cell_type": "code",
      "source": [
        "(x_mnist_train,y_mnist_train),(x_mnist_test,y_mnist_test) = datasets.mnist.load_data()"
      ],
      "metadata": {
        "id": "Q6LYNgOeuiYe"
      },
      "execution_count": 2,
      "outputs": []
    },
    {
      "cell_type": "code",
      "source": [
        "print(x_mnist_train.dtype)\n",
        "print(x_mnist_train.shape)\n",
        "print(y_mnist_train.shape)\n",
        "print(y_mnist_train.dtype)"
      ],
      "metadata": {
        "colab": {
          "base_uri": "https://localhost:8080/"
        },
        "id": "qpF2A8oFuiVu",
        "outputId": "cb5be692-f7e8-4649-9850-6f5de0f5b44f"
      },
      "execution_count": 3,
      "outputs": [
        {
          "output_type": "stream",
          "name": "stdout",
          "text": [
            "uint8\n",
            "(60000, 28, 28)\n",
            "(60000,)\n",
            "uint8\n"
          ]
        }
      ]
    },
    {
      "cell_type": "code",
      "source": [
        "x_mnist_train = x_mnist_train.astype('float32')\n",
        "x_mnist_test = x_mnist_test.astype('float32')\n",
        "x_mnist_train /= 255\n",
        "x_mnist_test /= 255\n"
      ],
      "metadata": {
        "id": "iir6ccTizeyx"
      },
      "execution_count": 4,
      "outputs": []
    },
    {
      "cell_type": "code",
      "source": [
        "x_mnist_train = x_mnist_train[:,:,:,np.newaxis]\n",
        "x_mnist_test = x_mnist_test[:,:,:,np.newaxis]"
      ],
      "metadata": {
        "id": "DRDCXJUpzcdZ"
      },
      "execution_count": 5,
      "outputs": []
    },
    {
      "cell_type": "code",
      "source": [],
      "metadata": {
        "id": "85TcnPwD2ADl"
      },
      "execution_count": 5,
      "outputs": []
    },
    {
      "cell_type": "code",
      "source": [
        "y_mnist_train = np_utils.to_categorical(y_mnist_train,10)\n",
        "y_mnist_test = np_utils.to_categorical(y_mnist_test,10)"
      ],
      "metadata": {
        "id": "JXoDozLDuiTQ"
      },
      "execution_count": 6,
      "outputs": []
    },
    {
      "cell_type": "code",
      "source": [
        "y_mnist_test.shape"
      ],
      "metadata": {
        "colab": {
          "base_uri": "https://localhost:8080/"
        },
        "id": "cavsVv-T95Dh",
        "outputId": "e4985a81-3fd3-4c5a-84a1-bd2b8fcf63b2"
      },
      "execution_count": 7,
      "outputs": [
        {
          "output_type": "execute_result",
          "data": {
            "text/plain": [
              "(10000, 10)"
            ]
          },
          "metadata": {},
          "execution_count": 7
        }
      ]
    },
    {
      "cell_type": "code",
      "source": [
        "cnn_increase = models.Sequential()\n"
      ],
      "metadata": {
        "id": "sgz15bgxuiQZ"
      },
      "execution_count": 8,
      "outputs": []
    },
    {
      "cell_type": "code",
      "source": [
        "from keras.layers.reshaping.flatten import Flatten\n",
        "cnn_increase.add(layers.Conv2D(6, kernel_size=(5,5), padding = \"same\", input_shape = (28,28,1)))\n",
        "cnn_increase.add(layers.Conv2D(7, kernel_size=(5,5), padding = \"same\"))\n",
        "cnn_increase.add(layers.MaxPooling2D(pool_size =(5,5),strides=2, padding = \"same\"))\n",
        "cnn_increase.add(layers.Conv2D(8, kernel_size=(5,5), padding = \"same\"))\n",
        "cnn_increase.add(layers.Conv2D(9, kernel_size=(5,5), padding = \"same\"))\n",
        "\n",
        "cnn_increase.add(layers.MaxPooling2D(pool_size =(5,5),strides=2, padding = \"same\"))\n",
        "cnn_increase.add(layers.Conv2D(10, kernel_size=(5,5), padding = \"same\"))\n",
        "cnn_increase.add(layers.Conv2D(11, kernel_size=(5,5), padding = \"same\"))\n",
        "\n",
        "cnn_increase.add(layers.MaxPooling2D(pool_size =(5,5),strides=2, padding = \"same\"))\n",
        "cnn_increase.add(layers.Conv2D(12, kernel_size=(5,5), padding = \"same\"))\n",
        "cnn_increase.add(layers.Conv2D(13, kernel_size=(5,5), padding = \"same\"))\n",
        "\n",
        "cnn_increase.add(layers.MaxPooling2D(pool_size =(5,5),strides=2, padding = \"same\"))\n",
        "cnn_increase.add(layers.Conv2D(14, kernel_size=(5,5), padding = \"same\"))\n",
        "cnn_increase.add(layers.Conv2D(15, kernel_size=(5,5), padding = \"same\"))\n",
        "cnn_increase.add(layers.Flatten())\n",
        "cnn_increase.add(layers.Dense(10, activation= 'softmax'))\n",
        "cnn_increase.summary()\n"
      ],
      "metadata": {
        "colab": {
          "base_uri": "https://localhost:8080/"
        },
        "id": "_KRkIkTTuiN5",
        "outputId": "fbe7d549-0a1c-432e-c935-50f1ebcd12e7"
      },
      "execution_count": 9,
      "outputs": [
        {
          "output_type": "stream",
          "name": "stdout",
          "text": [
            "Model: \"sequential\"\n",
            "_________________________________________________________________\n",
            " Layer (type)                Output Shape              Param #   \n",
            "=================================================================\n",
            " conv2d (Conv2D)             (None, 28, 28, 6)         156       \n",
            "                                                                 \n",
            " conv2d_1 (Conv2D)           (None, 28, 28, 7)         1057      \n",
            "                                                                 \n",
            " max_pooling2d (MaxPooling2D  (None, 14, 14, 7)        0         \n",
            " )                                                               \n",
            "                                                                 \n",
            " conv2d_2 (Conv2D)           (None, 14, 14, 8)         1408      \n",
            "                                                                 \n",
            " conv2d_3 (Conv2D)           (None, 14, 14, 9)         1809      \n",
            "                                                                 \n",
            " max_pooling2d_1 (MaxPooling  (None, 7, 7, 9)          0         \n",
            " 2D)                                                             \n",
            "                                                                 \n",
            " conv2d_4 (Conv2D)           (None, 7, 7, 10)          2260      \n",
            "                                                                 \n",
            " conv2d_5 (Conv2D)           (None, 7, 7, 11)          2761      \n",
            "                                                                 \n",
            " max_pooling2d_2 (MaxPooling  (None, 4, 4, 11)         0         \n",
            " 2D)                                                             \n",
            "                                                                 \n",
            " conv2d_6 (Conv2D)           (None, 4, 4, 12)          3312      \n",
            "                                                                 \n",
            " conv2d_7 (Conv2D)           (None, 4, 4, 13)          3913      \n",
            "                                                                 \n",
            " max_pooling2d_3 (MaxPooling  (None, 2, 2, 13)         0         \n",
            " 2D)                                                             \n",
            "                                                                 \n",
            " conv2d_8 (Conv2D)           (None, 2, 2, 14)          4564      \n",
            "                                                                 \n",
            " conv2d_9 (Conv2D)           (None, 2, 2, 15)          5265      \n",
            "                                                                 \n",
            " flatten (Flatten)           (None, 60)                0         \n",
            "                                                                 \n",
            " dense (Dense)               (None, 10)                610       \n",
            "                                                                 \n",
            "=================================================================\n",
            "Total params: 27,115\n",
            "Trainable params: 27,115\n",
            "Non-trainable params: 0\n",
            "_________________________________________________________________\n"
          ]
        }
      ]
    },
    {
      "cell_type": "code",
      "source": [
        "# from keras.optimizers import SGD, Adam, RMSprop\n",
        "# optimizers_list = [SGD(),Adam(),RMSprop()]"
      ],
      "metadata": {
        "id": "6VeqX3k37qz1"
      },
      "execution_count": 10,
      "outputs": []
    },
    {
      "cell_type": "code",
      "source": [
        "# for k in optimizers_list:\n",
        "#   print(k)"
      ],
      "metadata": {
        "id": "Spu6RT2w9UKE"
      },
      "execution_count": 11,
      "outputs": []
    },
    {
      "cell_type": "code",
      "source": [
        "evaluation = []\n",
        "for i in [0.01,0.1,0.25,0.5]:\n",
        "  for j in [100,250,500,750]:\n",
        "    # for k in optimizers_list:\n",
        "      cnn_increase.compile(loss = 'categorical_crossentropy', optimizer = SGD(learning_rate=i),\n",
        "                           metrics=['accuracy'])\n",
        "      cnn_increase.fit(x_mnist_train,y_mnist_train,batch_size=j,epochs=25,validation_split=0.2)\n",
        "      score1 = cnn_increase.evaluate(x_mnist_test,y_mnist_test,verbose=1)\n",
        "      print(i,j,'SGD',score1[1])\n",
        "      evaluation.append((i,j,'SGD',score1))\n",
        "\n",
        "\n"
      ],
      "metadata": {
        "id": "zXuIUjcuuiLM"
      },
      "execution_count": null,
      "outputs": []
    },
    {
      "cell_type": "code",
      "source": [
        "for i in [0.01,0.1,0.25,0.5]:\n",
        "  for j in [100,250,500,750]:\n",
        "    # for k in optimizers_list:\n",
        "      cnn_increase.compile(loss = 'categorical_crossentropy', optimizer = Adam(learning_rate=i),\n",
        "                           metrics=['accuracy'])\n",
        "      cnn_increase.fit(x_mnist_train,y_mnist_train,batch_size=j,epochs=25,validation_split=0.2)\n",
        "      score2 = cnn_increase.evaluate(x_mnist_test,y_mnist_test,verbose=1)\n",
        "      print(i,j,'Adam',score2[1])\n",
        "      evaluation.append((i,j,'Adam',score2))"
      ],
      "metadata": {
        "id": "-tBnaPwzuiIp"
      },
      "execution_count": null,
      "outputs": []
    },
    {
      "cell_type": "code",
      "source": [
        "for i in [0.01,0.1,0.25,0.5]:\n",
        "  for j in [100,250,500,750]:\n",
        "    # for k in optimizers_list:\n",
        "      cnn_increase.compile(loss = 'categorical_crossentropy', optimizer = RMSprop(learning_rate=i),\n",
        "                           metrics=['accuracy'])\n",
        "      cnn_increase.fit(x_mnist_train,y_mnist_train,batch_size=j,epochs=25,validation_split=0.2)\n",
        "      score3 = cnn_increase.evaluate(x_mnist_test,y_mnist_test,verbose=1)\n",
        "      print(i,j,'RMSprop',score3[1])\n",
        "      evaluation.append((i,j,'RMSprop',score3))"
      ],
      "metadata": {
        "id": "H5FMT8PuuiGF"
      },
      "execution_count": null,
      "outputs": []
    },
    {
      "cell_type": "code",
      "source": [
        "cnn_decrease = models.Sequential()\n"
      ],
      "metadata": {
        "id": "2L7B_NzWuiDb"
      },
      "execution_count": null,
      "outputs": []
    },
    {
      "cell_type": "code",
      "source": [
        "from keras.layers.reshaping.flatten import Flatten\n",
        "cnn_decrease.add(layers.Conv2D(15, kernel_size=(5,5), padding = \"same\", input_shape = (28,28,1)))\n",
        "cnn_decrease.add(layers.Conv2D(14, kernel_size=(5,5), padding = \"same\"))\n",
        "cnn_decrease.add(layers.MaxPooling2D(pool_size =(5,5),strides=2, padding = \"same\"))\n",
        "cnn_decrease.add(layers.Conv2D(13, kernel_size=(5,5), padding = \"same\"))\n",
        "cnn_decrease.add(layers.Conv2D(12, kernel_size=(5,5), padding = \"same\"))\n",
        "\n",
        "cnn_decrease.add(layers.MaxPooling2D(pool_size =(5,5),strides=2, padding = \"same\"))\n",
        "cnn_decrease.add(layers.Conv2D(11, kernel_size=(5,5), padding = \"same\"))\n",
        "cnn_decrease.add(layers.Conv2D(10, kernel_size=(5,5), padding = \"same\"))\n",
        "\n",
        "cnn_decrease.add(layers.MaxPooling2D(pool_size =(5,5),strides=2, padding = \"same\"))\n",
        "cnn_decrease.add(layers.Conv2D(9, kernel_size=(5,5), padding = \"same\"))\n",
        "cnn_decrease.add(layers.Conv2D(8, kernel_size=(5,5), padding = \"same\"))\n",
        "\n",
        "cnn_decrease.add(layers.MaxPooling2D(pool_size =(5,5),strides=2, padding = \"same\"))\n",
        "cnn_decrease.add(layers.Conv2D(7, kernel_size=(5,5), padding = \"same\"))\n",
        "cnn_decrease.add(layers.Conv2D(6, kernel_size=(5,5), padding = \"same\"))\n",
        "cnn_decrease.add(layers.Flatten())\n",
        "cnn_decrease.add(layers.Dense(10, activation= 'softmax'))\n",
        "cnn_decrease.summary()\n"
      ],
      "metadata": {
        "id": "zF-sBs5PuiAd"
      },
      "execution_count": null,
      "outputs": []
    },
    {
      "cell_type": "code",
      "source": [
        "decrease_evaluation = []\n",
        "for i in [0.01,0.1,0.25,0.5]:\n",
        "  for j in [100,250,500,750]:\n",
        "    # for k in optimizers_list:\n",
        "      cnn_increase.compile(loss = 'categorical_crossentropy', optimizer = SGD(learning_rate=i),\n",
        "                           metrics=['accuracy'])\n",
        "      cnn_increase.fit(x_mnist_train,y_mnist_train,batch_size=j,epochs=25,validation_split=0.2)\n",
        "      score4 = cnn_increase.evaluate(x_mnist_test,y_mnist_test,verbose=1)\n",
        "      print(i,j,'SGD',score4[1])\n",
        "      decrease_evaluation.append((i,j,'SGD',score4))\n",
        "\n",
        "\n"
      ],
      "metadata": {
        "id": "m-O_G5Nuuh9P"
      },
      "execution_count": null,
      "outputs": []
    },
    {
      "cell_type": "code",
      "source": [
        "decrease_evaluation = []\n",
        "for i in [0.01,0.1,0.25,0.5]:\n",
        "  for j in [100,250,500,750]:\n",
        "    # for k in optimizers_list:\n",
        "      cnn_increase.compile(loss = 'categorical_crossentropy', optimizer = Adam(learning_rate=i),\n",
        "                           metrics=['accuracy'])\n",
        "      cnn_increase.fit(x_mnist_train,y_mnist_train,batch_size=j,epochs=25,validation_split=0.2)\n",
        "      score5 = cnn_increase.evaluate(x_mnist_test,y_mnist_test,verbose=1)\n",
        "      print(i,j,'Adam',score5[1])\n",
        "      decrease_evaluation.append((i,j,'Adam',score5))\n",
        "\n",
        "\n"
      ],
      "metadata": {
        "id": "gGVR9UMBuh6T"
      },
      "execution_count": null,
      "outputs": []
    },
    {
      "cell_type": "code",
      "source": [
        "decrease_evaluation = []\n",
        "for i in [0.01,0.1,0.25,0.5]:\n",
        "  for j in [100,250,500,750]:\n",
        "    # for k in optimizers_list:\n",
        "      cnn_increase.compile(loss = 'categorical_crossentropy', optimizer = RMSprop(learning_rate=i),\n",
        "                           metrics=['accuracy'])\n",
        "      cnn_increase.fit(x_mnist_train,y_mnist_train,batch_size=j,epochs=25,validation_split=0.2)\n",
        "      score6 = cnn_increase.evaluate(x_mnist_test,y_mnist_test,verbose=1)\n",
        "      print(i,j,'RMSprop',score6[1])\n",
        "      decrease_evaluation.append((i,j,'RMSprop',score6))\n",
        "\n",
        "\n"
      ],
      "metadata": {
        "id": "2TKd4KQKuh2b"
      },
      "execution_count": null,
      "outputs": []
    },
    {
      "cell_type": "code",
      "source": [
        "cnn_hourglass = models.Sequential()\n"
      ],
      "metadata": {
        "id": "olJ5vRv3uhyG"
      },
      "execution_count": null,
      "outputs": []
    },
    {
      "cell_type": "code",
      "source": [
        "from keras.layers.reshaping.flatten import Flatten\n",
        "cnn_hourglass.add(layers.Conv2D(6, kernel_size=(5,5), padding = \"same\", input_shape = (28,28,1)))\n",
        "cnn_hourglass.add(layers.Conv2D(7, kernel_size=(5,5), padding = \"same\"))\n",
        "cnn_hourglass.add(layers.MaxPooling2D(pool_size =(5,5),strides=2, padding = \"same\"))\n",
        "cnn_hourglass.add(layers.Conv2D(8, kernel_size=(5,5), padding = \"same\"))\n",
        "cnn_hourglass.add(layers.Conv2D(9, kernel_size=(5,5), padding = \"same\"))\n",
        "\n",
        "cnn_hourglass.add(layers.MaxPooling2D(pool_size =(5,5),strides=2, padding = \"same\"))\n",
        "cnn_hourglass.add(layers.Conv2D(10, kernel_size=(5,5), padding = \"same\"))\n",
        "cnn_hourglass.add(layers.Conv2D(11, kernel_size=(5,5), padding = \"same\"))\n",
        "\n",
        "cnn_hourglass.add(layers.MaxPooling2D(pool_size =(5,5),strides=2, padding = \"same\"))\n",
        "cnn_hourglass.add(layers.Conv2D(10, kernel_size=(5,5), padding = \"same\"))\n",
        "cnn_hourglass.add(layers.Conv2D(9, kernel_size=(5,5), padding = \"same\"))\n",
        "\n",
        "cnn_hourglass.add(layers.MaxPooling2D(pool_size =(5,5),strides=2, padding = \"same\"))\n",
        "cnn_hourglass.add(layers.Conv2D(8, kernel_size=(5,5), padding = \"same\"))\n",
        "cnn_hourglass.add(layers.Conv2D(7, kernel_size=(5,5), padding = \"same\"))\n",
        "cnn_hourglass.add(layers.Flatten())\n",
        "cnn_hourglass.add(layers.Dense(10, activation= 'softmax'))\n",
        "cnn_hourglass.summary()\n"
      ],
      "metadata": {
        "id": "7UInx9DEuhsx"
      },
      "execution_count": null,
      "outputs": []
    },
    {
      "cell_type": "code",
      "source": [
        "hourglass_evaluation = []\n",
        "for i in [0.01,0.1,0.25,0.5]:\n",
        "  for j in [100,250,500,750]:\n",
        "    # for k in optimizers_list:\n",
        "      cnn_increase.compile(loss = 'categorical_crossentropy', optimizer = SGD(learning_rate=i),\n",
        "                           metrics=['accuracy'])\n",
        "      cnn_increase.fit(x_mnist_train,y_mnist_train,batch_size=j,epochs=25,validation_split=0.2)\n",
        "      score7 = cnn_increase.evaluate(x_mnist_test,y_mnist_test,verbose=1)\n",
        "      print(i,j,'SGD',score7[1])\n",
        "      hourglass_evaluation.append((i,j,'SGD',score7))\n",
        "\n",
        "\n"
      ],
      "metadata": {
        "id": "iTfEo-8cuhn1"
      },
      "execution_count": null,
      "outputs": []
    },
    {
      "cell_type": "code",
      "source": [
        "hourglass_evaluation = []\n",
        "for i in [0.01,0.1,0.25,0.5]:\n",
        "  for j in [100,250,500,750]:\n",
        "    # for k in optimizers_list:\n",
        "      cnn_increase.compile(loss = 'categorical_crossentropy', optimizer = Adam(learning_rate=i),\n",
        "                           metrics=['accuracy'])\n",
        "      cnn_increase.fit(x_mnist_train,y_mnist_train,batch_size=j,epochs=25,validation_split=0.2)\n",
        "      score8 = cnn_increase.evaluate(x_mnist_test,y_mnist_test,verbose=1)\n",
        "      print(i,j,'Adam',score8[1])\n",
        "      hourglass_evaluation.append((i,j,'Adam',score8))\n",
        "\n",
        "\n"
      ],
      "metadata": {
        "id": "UQhA0hF3uheN"
      },
      "execution_count": null,
      "outputs": []
    },
    {
      "cell_type": "code",
      "source": [
        "hourglass_evaluation = []\n",
        "for i in [0.01,0.1,0.25,0.5]:\n",
        "  for j in [100,250,500,750]:\n",
        "    # for k in optimizers_list:\n",
        "      cnn_increase.compile(loss = 'categorical_crossentropy', optimizer = RMSprop(learning_rate=i),\n",
        "                           metrics=['accuracy'])\n",
        "      cnn_increase.fit(x_mnist_train,y_mnist_train,batch_size=j,epochs=25,validation_split=0.2)\n",
        "      score9 = cnn_increase.evaluate(x_mnist_test,y_mnist_test,verbose=1)\n",
        "      print(i,j,'RMSprop',score9[1])\n",
        "      hourglass_evaluation.append((i,j,'RMSprop',score9))\n",
        "\n",
        "\n"
      ],
      "metadata": {
        "id": "DmOhRVuOuhLk"
      },
      "execution_count": null,
      "outputs": []
    },
    {
      "cell_type": "code",
      "source": [],
      "metadata": {
        "id": "4u-H2qU5-OSg"
      },
      "execution_count": null,
      "outputs": []
    },
    {
      "cell_type": "code",
      "source": [],
      "metadata": {
        "id": "89GCHHut-OHO"
      },
      "execution_count": null,
      "outputs": []
    },
    {
      "cell_type": "code",
      "execution_count": 2,
      "metadata": {
        "id": "rypD9qBodF-o"
      },
      "outputs": [],
      "source": [
        "import tensorflow as tf\n",
        "\n",
        "from tensorflow import keras\n",
        "from keras import datasets, layers, models"
      ]
    },
    {
      "cell_type": "code",
      "source": [
        "# l = list(tf.keras.datasets.cifar10.load_data())"
      ],
      "metadata": {
        "id": "NgtTnYruBL3-"
      },
      "execution_count": 14,
      "outputs": []
    },
    {
      "cell_type": "code",
      "source": [],
      "metadata": {
        "id": "G1kdg1SVBOAm"
      },
      "execution_count": 14,
      "outputs": []
    },
    {
      "cell_type": "code",
      "source": [
        "(x_train,y_train),(x_test,y_test) = tf.keras.datasets.cifar10.load_data()"
      ],
      "metadata": {
        "id": "sJjIl3Lou5Uh"
      },
      "execution_count": 15,
      "outputs": []
    },
    {
      "cell_type": "code",
      "source": [
        "import matplotlib.pyplot as plt\n",
        "plt.imshow(x_train[20000])\n",
        "print(y_train[20000])"
      ],
      "metadata": {
        "colab": {
          "base_uri": "https://localhost:8080/",
          "height": 283
        },
        "id": "oBy-oWfmvv7Z",
        "outputId": "86a5910f-f3cf-499b-abab-b42323ae246a"
      },
      "execution_count": 16,
      "outputs": [
        {
          "output_type": "stream",
          "name": "stdout",
          "text": [
            "[8]\n"
          ]
        },
        {
          "output_type": "display_data",
          "data": {
            "text/plain": [
              "<Figure size 432x288 with 1 Axes>"
            ],
            "image/png": "[encoded data removed]"
          },
          "metadata": {
            "needs_background": "light"
          }
        }
      ]
    },
    {
      "cell_type": "code",
      "source": [
        "x_train.shape"
      ],
      "metadata": {
        "colab": {
          "base_uri": "https://localhost:8080/"
        },
        "id": "-7tyQbuCygUt",
        "outputId": "467bf64e-db8f-434b-8952-36f0af93d535"
      },
      "execution_count": 17,
      "outputs": [
        {
          "output_type": "execute_result",
          "data": {
            "text/plain": [
              "(50000, 32, 32, 3)"
            ]
          },
          "metadata": {},
          "execution_count": 17
        }
      ]
    },
    {
      "cell_type": "code",
      "source": [
        "import numpy as np\n",
        "\n",
        "x_train_gray = np.sum(x_train/3, axis=3, keepdims = True)\n",
        "x_test_gray = np.sum(x_test/3, axis=3, keepdims = True)\n"
      ],
      "metadata": {
        "id": "9FXZTRIMAqhI"
      },
      "execution_count": 18,
      "outputs": []
    },
    {
      "cell_type": "code",
      "source": [],
      "metadata": {
        "id": "9jegXV6ai1q9"
      },
      "execution_count": 18,
      "outputs": []
    },
    {
      "cell_type": "code",
      "source": [
        "x_train_gray /= 255\n",
        "x_test_gray /= 255"
      ],
      "metadata": {
        "id": "L70j_5v_hzSZ"
      },
      "execution_count": 19,
      "outputs": []
    },
    {
      "cell_type": "code",
      "source": [
        "x_train_gray"
      ],
      "metadata": {
        "id": "u3Hcz1a8i7O_"
      },
      "execution_count": null,
      "outputs": []
    },
    {
      "cell_type": "code",
      "source": [
        "model = models.Sequential()\n",
        "\n",
        "model.add(layers.Conv2D(6, (5,5), activation = 'tanh', input_shape= (32,32,1)))\n",
        "\n",
        "model.add(layers.MaxPooling2D(strides=2))\n",
        "\n",
        "model.add(layers.Conv2D(16, (5,5), activation = 'tanh'))\n",
        "\n",
        "model.add(layers.MaxPooling2D(strides=2))\n",
        "\n",
        "model.add(layers.Conv2D(120,(5,5), activation='tanh'))\n",
        "\n",
        "model.add(layers.Flatten())\n",
        "\n",
        "model.add(layers.Dense(84, activation='tanh'))\n",
        "\n",
        "model.add(layers.Dense(10, activation='softmax'))\n",
        "model.summary()"
      ],
      "metadata": {
        "colab": {
          "base_uri": "https://localhost:8080/"
        },
        "id": "3Wi7Oug6Jmtk",
        "outputId": "c383fc06-5d11-48d0-d889-f41a09ec4b0a"
      },
      "execution_count": 21,
      "outputs": [
        {
          "output_type": "stream",
          "name": "stdout",
          "text": [
            "Model: \"sequential_1\"\n",
            "_________________________________________________________________\n",
            " Layer (type)                Output Shape              Param #   \n",
            "=================================================================\n",
            " conv2d_10 (Conv2D)          (None, 28, 28, 6)         156       \n",
            "                                                                 \n",
            " max_pooling2d_4 (MaxPooling  (None, 14, 14, 6)        0         \n",
            " 2D)                                                             \n",
            "                                                                 \n",
            " conv2d_11 (Conv2D)          (None, 10, 10, 16)        2416      \n",
            "                                                                 \n",
            " max_pooling2d_5 (MaxPooling  (None, 5, 5, 16)         0         \n",
            " 2D)                                                             \n",
            "                                                                 \n",
            " conv2d_12 (Conv2D)          (None, 1, 1, 120)         48120     \n",
            "                                                                 \n",
            " flatten_1 (Flatten)         (None, 120)               0         \n",
            "                                                                 \n",
            " dense_1 (Dense)             (None, 84)                10164     \n",
            "                                                                 \n",
            " dense_2 (Dense)             (None, 10)                850       \n",
            "                                                                 \n",
            "=================================================================\n",
            "Total params: 61,706\n",
            "Trainable params: 61,706\n",
            "Non-trainable params: 0\n",
            "_________________________________________________________________\n"
          ]
        }
      ]
    },
    {
      "cell_type": "code",
      "source": [
        "# \n",
        "\n",
        "# lr_schedule = keras.optimizers.schedules.ExponentialDecay(\n",
        "#     initial_learning_rate=1e-2,\n",
        "#     decay_steps=10000,\n",
        "#     decay_rate=0.96)"
      ],
      "metadata": {
        "id": "ZyO9ypjCKJg-"
      },
      "execution_count": null,
      "outputs": []
    },
    {
      "cell_type": "code",
      "source": [],
      "metadata": {
        "id": "JThmro7lvn5w"
      },
      "execution_count": null,
      "outputs": []
    },
    {
      "cell_type": "code",
      "source": [
        "scores = []\n",
        "params = []\n",
        "for i in [0.01,0.1,0.25,0.5]:\n",
        "  for j in [200,500,700,850]:\n",
        "  # lr_schedule = keras.optimizers.schedules.ExponentialDecay(\n",
        "  #   initial_learning_rate=1e-2,\n",
        "  #   decay_steps=10000,\n",
        "  #   decay_rate=0.96)\n",
        "    model.compile(optimizer=keras.optimizers.Adam(learning_rate=i), loss='sparse_categorical_crossentropy', metrics=['accuracy'])\n",
        "    model.fit(x_train_gray, y_train, epochs=25, batch_size=j, verbose=1)\n",
        "    score = model.evaluate(x_test_gray,y_test)\n",
        "    scores.append(score)\n",
        "    params.append((i,j,scores,'Adam'))\n"
      ],
      "metadata": {
        "id": "uKyvMOxVddxS"
      },
      "execution_count": null,
      "outputs": []
    },
    {
      "cell_type": "code",
      "source": [
        "for i in [0.01,0.1,0.25,0.5]:\n",
        "  for j in [200,500,700,850]:\n",
        "  # lr_schedule = keras.optimizers.schedules.ExponentialDecay(\n",
        "  #   initial_learning_rate=1e-2,\n",
        "  #   decay_steps=10000,\n",
        "  #   decay_rate=0.96)\n",
        "    model.compile(optimizer=keras.optimizers.SGD(learning_rate=i), loss='sparse_categorical_crossentropy', metrics=['accuracy'])\n",
        "    model.fit(x_train_gray, y_train, epochs=75, batch_size=j, verbose=1)\n",
        "    score = model.evaluate(x_test_gray,y_test)\n",
        "    scores.append(score)\n",
        "    params.append((i,j,scores,'SGD'))"
      ],
      "metadata": {
        "id": "VCBU8GF1-43P"
      },
      "execution_count": null,
      "outputs": []
    },
    {
      "cell_type": "code",
      "source": [
        "scores"
      ],
      "metadata": {
        "id": "FQiRMb9JeVUr"
      },
      "execution_count": null,
      "outputs": []
    },
    {
      "cell_type": "code",
      "source": [
        "params"
      ],
      "metadata": {
        "id": "QaskAN0rhNqn"
      },
      "execution_count": null,
      "outputs": []
    },
    {
      "cell_type": "code",
      "source": [
        "feed_forward = models.Sequential()\n",
        "feed_forward.add(layers.Conv2D(64, kernel_size=5, padding=\"same\",input_shape=(32,32,1),activation=\"tanh\"))\n",
        "feed_forward.add(layers.MaxPooling2D(pool_size=(2, 2), strides=(2, 2)))\n",
        "        # CONV => RELU => POOL\n",
        "feed_forward.add(layers.Conv2D(64, kernel_size=5, padding=\"same\",activation=\"tanh\"))\n",
        "feed_forward.add(layers.MaxPooling2D(pool_size=(2, 2), strides=(2, 2)))\n",
        "feed_forward.add(layers.Conv2D(64, kernel_size=5, padding=\"same\",activation = \"tanh\"))\n",
        "        # Flatten => RELU layers\n",
        "feed_forward.add(layers.Flatten())\n",
        "feed_forward.add(layers.Dense(64,activation = \"tanh\"))\n",
        "        # a softmax classifier\n",
        "feed_forward.add(layers.Dense(10,activation = \"softmax\"))\n",
        "feed_forward.summary()\n"
      ],
      "metadata": {
        "colab": {
          "base_uri": "https://localhost:8080/"
        },
        "id": "ntOLAOH9Lsb1",
        "outputId": "bd969cfa-ca87-42d3-d3a7-223568a07f13"
      },
      "execution_count": 4,
      "outputs": [
        {
          "output_type": "stream",
          "name": "stdout",
          "text": [
            "Model: \"sequential_1\"\n",
            "_________________________________________________________________\n",
            " Layer (type)                Output Shape              Param #   \n",
            "=================================================================\n",
            " conv2d_3 (Conv2D)           (None, 32, 32, 64)        1664      \n",
            "                                                                 \n",
            " max_pooling2d_2 (MaxPooling  (None, 16, 16, 64)       0         \n",
            " 2D)                                                             \n",
            "                                                                 \n",
            " conv2d_4 (Conv2D)           (None, 16, 16, 64)        102464    \n",
            "                                                                 \n",
            " max_pooling2d_3 (MaxPooling  (None, 8, 8, 64)         0         \n",
            " 2D)                                                             \n",
            "                                                                 \n",
            " conv2d_5 (Conv2D)           (None, 8, 8, 64)          102464    \n",
            "                                                                 \n",
            " flatten (Flatten)           (None, 4096)              0         \n",
            "                                                                 \n",
            " dense (Dense)               (None, 64)                262208    \n",
            "                                                                 \n",
            " dense_1 (Dense)             (None, 10)                650       \n",
            "                                                                 \n",
            "=================================================================\n",
            "Total params: 469,450\n",
            "Trainable params: 469,450\n",
            "Non-trainable params: 0\n",
            "_________________________________________________________________\n"
          ]
        }
      ]
    },
    {
      "cell_type": "code",
      "source": [
        "scores_ffd = []\n",
        "params_ffd = []\n",
        "for i in [0.01,0.1,0.25,0.5]:\n",
        "  for j in [200,500,700,850]:\n",
        "  # lr_schedule = keras.optimizers.schedules.ExponentialDecay(\n",
        "  #   initial_learning_rate=1e-2,\n",
        "  #   decay_steps=10000,\n",
        "  #   decay_rate=0.96)\n",
        "    feed_forward.compile(optimizer=keras.optimizers.Adam(learning_rate=i), loss='sparse_categorical_crossentropy', metrics=['accuracy'])\n",
        "    feed_forward.fit(x_train_gray, y_train, epochs=25, batch_size=j, verbose=1)\n",
        "    score_ffd = model.evaluate(x_test_gray,y_test)\n",
        "    scores_ffd.append(score)\n",
        "    params_ffd.append((i,j))"
      ],
      "metadata": {
        "colab": {
          "base_uri": "https://localhost:8080/",
          "height": 415
        },
        "id": "qdFXbITbrlOT",
        "outputId": "cb727268-b61f-4df9-ef95-5a805807ee30"
      },
      "execution_count": 26,
      "outputs": [
        {
          "output_type": "stream",
          "name": "stdout",
          "text": [
            "Epoch 1/25\n",
            "  1/250 [..............................] - ETA: 7:35 - loss: 3.6060 - accuracy: 0.1050"
          ]
        },
        {
          "output_type": "error",
          "ename": "KeyboardInterrupt",
          "evalue": "ignored",
          "traceback": [
            "\u001b[0;31m---------------------------------------------------------------------------\u001b[0m",
            "\u001b[0;31mKeyboardInterrupt\u001b[0m                         Traceback (most recent call last)",
            "\u001b[0;32m<ipython-input-26-7af2344c7ff5>\u001b[0m in \u001b[0;36m<module>\u001b[0;34m\u001b[0m\n\u001b[1;32m      8\u001b[0m   \u001b[0;31m#   decay_rate=0.96)\u001b[0m\u001b[0;34m\u001b[0m\u001b[0;34m\u001b[0m\u001b[0;34m\u001b[0m\u001b[0m\n\u001b[1;32m      9\u001b[0m     \u001b[0mfeed_forward\u001b[0m\u001b[0;34m.\u001b[0m\u001b[0mcompile\u001b[0m\u001b[0;34m(\u001b[0m\u001b[0moptimizer\u001b[0m\u001b[0;34m=\u001b[0m\u001b[0mkeras\u001b[0m\u001b[0;34m.\u001b[0m\u001b[0moptimizers\u001b[0m\u001b[0;34m.\u001b[0m\u001b[0mAdam\u001b[0m\u001b[0;34m(\u001b[0m\u001b[0mlearning_rate\u001b[0m\u001b[0;34m=\u001b[0m\u001b[0mi\u001b[0m\u001b[0;34m)\u001b[0m\u001b[0;34m,\u001b[0m \u001b[0mloss\u001b[0m\u001b[0;34m=\u001b[0m\u001b[0;34m'sparse_categorical_crossentropy'\u001b[0m\u001b[0;34m,\u001b[0m \u001b[0mmetrics\u001b[0m\u001b[0;34m=\u001b[0m\u001b[0;34m[\u001b[0m\u001b[0;34m'accuracy'\u001b[0m\u001b[0;34m]\u001b[0m\u001b[0;34m)\u001b[0m\u001b[0;34m\u001b[0m\u001b[0;34m\u001b[0m\u001b[0m\n\u001b[0;32m---> 10\u001b[0;31m     \u001b[0mfeed_forward\u001b[0m\u001b[0;34m.\u001b[0m\u001b[0mfit\u001b[0m\u001b[0;34m(\u001b[0m\u001b[0mx_train_gray\u001b[0m\u001b[0;34m,\u001b[0m \u001b[0my_train\u001b[0m\u001b[0;34m,\u001b[0m \u001b[0mepochs\u001b[0m\u001b[0;34m=\u001b[0m\u001b[0;36m25\u001b[0m\u001b[0;34m,\u001b[0m \u001b[0mbatch_size\u001b[0m\u001b[0;34m=\u001b[0m\u001b[0mj\u001b[0m\u001b[0;34m,\u001b[0m \u001b[0mverbose\u001b[0m\u001b[0;34m=\u001b[0m\u001b[0;36m1\u001b[0m\u001b[0;34m)\u001b[0m\u001b[0;34m\u001b[0m\u001b[0;34m\u001b[0m\u001b[0m\n\u001b[0m\u001b[1;32m     11\u001b[0m     \u001b[0mscore_ffd\u001b[0m \u001b[0;34m=\u001b[0m \u001b[0mmodel\u001b[0m\u001b[0;34m.\u001b[0m\u001b[0mevaluate\u001b[0m\u001b[0;34m(\u001b[0m\u001b[0mx_test_gray\u001b[0m\u001b[0;34m,\u001b[0m\u001b[0my_test\u001b[0m\u001b[0;34m)\u001b[0m\u001b[0;34m\u001b[0m\u001b[0;34m\u001b[0m\u001b[0m\n\u001b[1;32m     12\u001b[0m     \u001b[0mscores_ffd\u001b[0m\u001b[0;34m.\u001b[0m\u001b[0mappend\u001b[0m\u001b[0;34m(\u001b[0m\u001b[0mscore\u001b[0m\u001b[0;34m)\u001b[0m\u001b[0;34m\u001b[0m\u001b[0;34m\u001b[0m\u001b[0m\n",
            "\u001b[0;32m/usr/local/lib/python3.7/dist-packages/keras/utils/traceback_utils.py\u001b[0m in \u001b[0;36merror_handler\u001b[0;34m(*args, **kwargs)\u001b[0m\n\u001b[1;32m     62\u001b[0m     \u001b[0mfiltered_tb\u001b[0m \u001b[0;34m=\u001b[0m \u001b[0;32mNone\u001b[0m\u001b[0;34m\u001b[0m\u001b[0;34m\u001b[0m\u001b[0m\n\u001b[1;32m     63\u001b[0m     \u001b[0;32mtry\u001b[0m\u001b[0;34m:\u001b[0m\u001b[0;34m\u001b[0m\u001b[0;34m\u001b[0m\u001b[0m\n\u001b[0;32m---> 64\u001b[0;31m       \u001b[0;32mreturn\u001b[0m \u001b[0mfn\u001b[0m\u001b[0;34m(\u001b[0m\u001b[0;34m*\u001b[0m\u001b[0margs\u001b[0m\u001b[0;34m,\u001b[0m \u001b[0;34m**\u001b[0m\u001b[0mkwargs\u001b[0m\u001b[0;34m)\u001b[0m\u001b[0;34m\u001b[0m\u001b[0;34m\u001b[0m\u001b[0m\n\u001b[0m\u001b[1;32m     65\u001b[0m     \u001b[0;32mexcept\u001b[0m \u001b[0mException\u001b[0m \u001b[0;32mas\u001b[0m \u001b[0me\u001b[0m\u001b[0;34m:\u001b[0m  \u001b[0;31m# pylint: disable=broad-except\u001b[0m\u001b[0;34m\u001b[0m\u001b[0;34m\u001b[0m\u001b[0m\n\u001b[1;32m     66\u001b[0m       \u001b[0mfiltered_tb\u001b[0m \u001b[0;34m=\u001b[0m \u001b[0m_process_traceback_frames\u001b[0m\u001b[0;34m(\u001b[0m\u001b[0me\u001b[0m\u001b[0;34m.\u001b[0m\u001b[0m__traceback__\u001b[0m\u001b[0;34m)\u001b[0m\u001b[0;34m\u001b[0m\u001b[0;34m\u001b[0m\u001b[0m\n",
            "\u001b[0;32m/usr/local/lib/python3.7/dist-packages/keras/engine/training.py\u001b[0m in \u001b[0;36mfit\u001b[0;34m(self, x, y, batch_size, epochs, verbose, callbacks, validation_split, validation_data, shuffle, class_weight, sample_weight, initial_epoch, steps_per_epoch, validation_steps, validation_batch_size, validation_freq, max_queue_size, workers, use_multiprocessing)\u001b[0m\n\u001b[1;32m   1407\u001b[0m                 _r=1):\n\u001b[1;32m   1408\u001b[0m               \u001b[0mcallbacks\u001b[0m\u001b[0;34m.\u001b[0m\u001b[0mon_train_batch_begin\u001b[0m\u001b[0;34m(\u001b[0m\u001b[0mstep\u001b[0m\u001b[0;34m)\u001b[0m\u001b[0;34m\u001b[0m\u001b[0;34m\u001b[0m\u001b[0m\n\u001b[0;32m-> 1409\u001b[0;31m               \u001b[0mtmp_logs\u001b[0m \u001b[0;34m=\u001b[0m \u001b[0mself\u001b[0m\u001b[0;34m.\u001b[0m\u001b[0mtrain_function\u001b[0m\u001b[0;34m(\u001b[0m\u001b[0miterator\u001b[0m\u001b[0;34m)\u001b[0m\u001b[0;34m\u001b[0m\u001b[0;34m\u001b[0m\u001b[0m\n\u001b[0m\u001b[1;32m   1410\u001b[0m               \u001b[0;32mif\u001b[0m \u001b[0mdata_handler\u001b[0m\u001b[0;34m.\u001b[0m\u001b[0mshould_sync\u001b[0m\u001b[0;34m:\u001b[0m\u001b[0;34m\u001b[0m\u001b[0;34m\u001b[0m\u001b[0m\n\u001b[1;32m   1411\u001b[0m                 \u001b[0mcontext\u001b[0m\u001b[0;34m.\u001b[0m\u001b[0masync_wait\u001b[0m\u001b[0;34m(\u001b[0m\u001b[0;34m)\u001b[0m\u001b[0;34m\u001b[0m\u001b[0;34m\u001b[0m\u001b[0m\n",
            "\u001b[0;32m/usr/local/lib/python3.7/dist-packages/tensorflow/python/util/traceback_utils.py\u001b[0m in \u001b[0;36merror_handler\u001b[0;34m(*args, **kwargs)\u001b[0m\n\u001b[1;32m    148\u001b[0m     \u001b[0mfiltered_tb\u001b[0m \u001b[0;34m=\u001b[0m \u001b[0;32mNone\u001b[0m\u001b[0;34m\u001b[0m\u001b[0;34m\u001b[0m\u001b[0m\n\u001b[1;32m    149\u001b[0m     \u001b[0;32mtry\u001b[0m\u001b[0;34m:\u001b[0m\u001b[0;34m\u001b[0m\u001b[0;34m\u001b[0m\u001b[0m\n\u001b[0;32m--> 150\u001b[0;31m       \u001b[0;32mreturn\u001b[0m \u001b[0mfn\u001b[0m\u001b[0;34m(\u001b[0m\u001b[0;34m*\u001b[0m\u001b[0margs\u001b[0m\u001b[0;34m,\u001b[0m \u001b[0;34m**\u001b[0m\u001b[0mkwargs\u001b[0m\u001b[0;34m)\u001b[0m\u001b[0;34m\u001b[0m\u001b[0;34m\u001b[0m\u001b[0m\n\u001b[0m\u001b[1;32m    151\u001b[0m     \u001b[0;32mexcept\u001b[0m \u001b[0mException\u001b[0m \u001b[0;32mas\u001b[0m \u001b[0me\u001b[0m\u001b[0;34m:\u001b[0m\u001b[0;34m\u001b[0m\u001b[0;34m\u001b[0m\u001b[0m\n\u001b[1;32m    152\u001b[0m       \u001b[0mfiltered_tb\u001b[0m \u001b[0;34m=\u001b[0m \u001b[0m_process_traceback_frames\u001b[0m\u001b[0;34m(\u001b[0m\u001b[0me\u001b[0m\u001b[0;34m.\u001b[0m\u001b[0m__traceback__\u001b[0m\u001b[0;34m)\u001b[0m\u001b[0;34m\u001b[0m\u001b[0;34m\u001b[0m\u001b[0m\n",
            "\u001b[0;32m/usr/local/lib/python3.7/dist-packages/tensorflow/python/eager/def_function.py\u001b[0m in \u001b[0;36m__call__\u001b[0;34m(self, *args, **kwds)\u001b[0m\n\u001b[1;32m    913\u001b[0m \u001b[0;34m\u001b[0m\u001b[0m\n\u001b[1;32m    914\u001b[0m       \u001b[0;32mwith\u001b[0m \u001b[0mOptionalXlaContext\u001b[0m\u001b[0;34m(\u001b[0m\u001b[0mself\u001b[0m\u001b[0;34m.\u001b[0m\u001b[0m_jit_compile\u001b[0m\u001b[0;34m)\u001b[0m\u001b[0;34m:\u001b[0m\u001b[0;34m\u001b[0m\u001b[0;34m\u001b[0m\u001b[0m\n\u001b[0;32m--> 915\u001b[0;31m         \u001b[0mresult\u001b[0m \u001b[0;34m=\u001b[0m \u001b[0mself\u001b[0m\u001b[0;34m.\u001b[0m\u001b[0m_call\u001b[0m\u001b[0;34m(\u001b[0m\u001b[0;34m*\u001b[0m\u001b[0margs\u001b[0m\u001b[0;34m,\u001b[0m \u001b[0;34m**\u001b[0m\u001b[0mkwds\u001b[0m\u001b[0;34m)\u001b[0m\u001b[0;34m\u001b[0m\u001b[0;34m\u001b[0m\u001b[0m\n\u001b[0m\u001b[1;32m    916\u001b[0m \u001b[0;34m\u001b[0m\u001b[0m\n\u001b[1;32m    917\u001b[0m       \u001b[0mnew_tracing_count\u001b[0m \u001b[0;34m=\u001b[0m \u001b[0mself\u001b[0m\u001b[0;34m.\u001b[0m\u001b[0mexperimental_get_tracing_count\u001b[0m\u001b[0;34m(\u001b[0m\u001b[0;34m)\u001b[0m\u001b[0;34m\u001b[0m\u001b[0;34m\u001b[0m\u001b[0m\n",
            "\u001b[0;32m/usr/local/lib/python3.7/dist-packages/tensorflow/python/eager/def_function.py\u001b[0m in \u001b[0;36m_call\u001b[0;34m(self, *args, **kwds)\u001b[0m\n\u001b[1;32m    945\u001b[0m       \u001b[0;31m# In this case we have created variables on the first call, so we run the\u001b[0m\u001b[0;34m\u001b[0m\u001b[0;34m\u001b[0m\u001b[0;34m\u001b[0m\u001b[0m\n\u001b[1;32m    946\u001b[0m       \u001b[0;31m# defunned version which is guaranteed to never create variables.\u001b[0m\u001b[0;34m\u001b[0m\u001b[0;34m\u001b[0m\u001b[0;34m\u001b[0m\u001b[0m\n\u001b[0;32m--> 947\u001b[0;31m       \u001b[0;32mreturn\u001b[0m \u001b[0mself\u001b[0m\u001b[0;34m.\u001b[0m\u001b[0m_stateless_fn\u001b[0m\u001b[0;34m(\u001b[0m\u001b[0;34m*\u001b[0m\u001b[0margs\u001b[0m\u001b[0;34m,\u001b[0m \u001b[0;34m**\u001b[0m\u001b[0mkwds\u001b[0m\u001b[0;34m)\u001b[0m  \u001b[0;31m# pylint: disable=not-callable\u001b[0m\u001b[0;34m\u001b[0m\u001b[0;34m\u001b[0m\u001b[0m\n\u001b[0m\u001b[1;32m    948\u001b[0m     \u001b[0;32melif\u001b[0m \u001b[0mself\u001b[0m\u001b[0;34m.\u001b[0m\u001b[0m_stateful_fn\u001b[0m \u001b[0;32mis\u001b[0m \u001b[0;32mnot\u001b[0m \u001b[0;32mNone\u001b[0m\u001b[0;34m:\u001b[0m\u001b[0;34m\u001b[0m\u001b[0;34m\u001b[0m\u001b[0m\n\u001b[1;32m    949\u001b[0m       \u001b[0;31m# Release the lock early so that multiple threads can perform the call\u001b[0m\u001b[0;34m\u001b[0m\u001b[0;34m\u001b[0m\u001b[0;34m\u001b[0m\u001b[0m\n",
            "\u001b[0;32m/usr/local/lib/python3.7/dist-packages/tensorflow/python/eager/function.py\u001b[0m in \u001b[0;36m__call__\u001b[0;34m(self, *args, **kwargs)\u001b[0m\n\u001b[1;32m   2452\u001b[0m        filtered_flat_args) = self._maybe_define_function(args, kwargs)\n\u001b[1;32m   2453\u001b[0m     return graph_function._call_flat(\n\u001b[0;32m-> 2454\u001b[0;31m         filtered_flat_args, captured_inputs=graph_function.captured_inputs)  # pylint: disable=protected-access\n\u001b[0m\u001b[1;32m   2455\u001b[0m \u001b[0;34m\u001b[0m\u001b[0m\n\u001b[1;32m   2456\u001b[0m   \u001b[0;34m@\u001b[0m\u001b[0mproperty\u001b[0m\u001b[0;34m\u001b[0m\u001b[0;34m\u001b[0m\u001b[0m\n",
            "\u001b[0;32m/usr/local/lib/python3.7/dist-packages/tensorflow/python/eager/function.py\u001b[0m in \u001b[0;36m_call_flat\u001b[0;34m(self, args, captured_inputs, cancellation_manager)\u001b[0m\n\u001b[1;32m   1859\u001b[0m       \u001b[0;31m# No tape is watching; skip to running the function.\u001b[0m\u001b[0;34m\u001b[0m\u001b[0;34m\u001b[0m\u001b[0;34m\u001b[0m\u001b[0m\n\u001b[1;32m   1860\u001b[0m       return self._build_call_outputs(self._inference_function.call(\n\u001b[0;32m-> 1861\u001b[0;31m           ctx, args, cancellation_manager=cancellation_manager))\n\u001b[0m\u001b[1;32m   1862\u001b[0m     forward_backward = self._select_forward_and_backward_functions(\n\u001b[1;32m   1863\u001b[0m         \u001b[0margs\u001b[0m\u001b[0;34m,\u001b[0m\u001b[0;34m\u001b[0m\u001b[0;34m\u001b[0m\u001b[0m\n",
            "\u001b[0;32m/usr/local/lib/python3.7/dist-packages/tensorflow/python/eager/function.py\u001b[0m in \u001b[0;36mcall\u001b[0;34m(self, ctx, args, cancellation_manager)\u001b[0m\n\u001b[1;32m    500\u001b[0m               \u001b[0minputs\u001b[0m\u001b[0;34m=\u001b[0m\u001b[0margs\u001b[0m\u001b[0;34m,\u001b[0m\u001b[0;34m\u001b[0m\u001b[0;34m\u001b[0m\u001b[0m\n\u001b[1;32m    501\u001b[0m               \u001b[0mattrs\u001b[0m\u001b[0;34m=\u001b[0m\u001b[0mattrs\u001b[0m\u001b[0;34m,\u001b[0m\u001b[0;34m\u001b[0m\u001b[0;34m\u001b[0m\u001b[0m\n\u001b[0;32m--> 502\u001b[0;31m               ctx=ctx)\n\u001b[0m\u001b[1;32m    503\u001b[0m         \u001b[0;32melse\u001b[0m\u001b[0;34m:\u001b[0m\u001b[0;34m\u001b[0m\u001b[0;34m\u001b[0m\u001b[0m\n\u001b[1;32m    504\u001b[0m           outputs = execute.execute_with_cancellation(\n",
            "\u001b[0;32m/usr/local/lib/python3.7/dist-packages/tensorflow/python/eager/execute.py\u001b[0m in \u001b[0;36mquick_execute\u001b[0;34m(op_name, num_outputs, inputs, attrs, ctx, name)\u001b[0m\n\u001b[1;32m     53\u001b[0m     \u001b[0mctx\u001b[0m\u001b[0;34m.\u001b[0m\u001b[0mensure_initialized\u001b[0m\u001b[0;34m(\u001b[0m\u001b[0;34m)\u001b[0m\u001b[0;34m\u001b[0m\u001b[0;34m\u001b[0m\u001b[0m\n\u001b[1;32m     54\u001b[0m     tensors = pywrap_tfe.TFE_Py_Execute(ctx._handle, device_name, op_name,\n\u001b[0;32m---> 55\u001b[0;31m                                         inputs, attrs, num_outputs)\n\u001b[0m\u001b[1;32m     56\u001b[0m   \u001b[0;32mexcept\u001b[0m \u001b[0mcore\u001b[0m\u001b[0;34m.\u001b[0m\u001b[0m_NotOkStatusException\u001b[0m \u001b[0;32mas\u001b[0m \u001b[0me\u001b[0m\u001b[0;34m:\u001b[0m\u001b[0;34m\u001b[0m\u001b[0;34m\u001b[0m\u001b[0m\n\u001b[1;32m     57\u001b[0m     \u001b[0;32mif\u001b[0m \u001b[0mname\u001b[0m \u001b[0;32mis\u001b[0m \u001b[0;32mnot\u001b[0m \u001b[0;32mNone\u001b[0m\u001b[0;34m:\u001b[0m\u001b[0;34m\u001b[0m\u001b[0;34m\u001b[0m\u001b[0m\n",
            "\u001b[0;31mKeyboardInterrupt\u001b[0m: "
          ]
        }
      ]
    },
    {
      "cell_type": "code",
      "source": [
        "X = np.array([[[7], [5], [0], [0], [3], [2]],\n",
        "                   [[6], [4], [5], [1], [4], [8]],\n",
        "                   [[9], [0], [2], [2], [5], [4]],\n",
        "                   [[6], [3], [4], [7], [9], [8]],\n",
        "                   [[5], [7], [5], [6], [9], [0]],\n",
        "                   [[7], [9], [0], [8], [2], [3]]])\n",
        "\n",
        "f = np.array([[1, 0, -1],[2, 0, -2],[1, 0, -1]])"
      ],
      "metadata": {
        "id": "65i4QhFqr-05"
      },
      "execution_count": 35,
      "outputs": []
    },
    {
      "cell_type": "code",
      "source": [
        "X.shape[0]"
      ],
      "metadata": {
        "colab": {
          "base_uri": "https://localhost:8080/"
        },
        "id": "-ZAj1zlwtCEe",
        "outputId": "e5ff3736-6c83-4ea6-f68d-171f5b840fbc"
      },
      "execution_count": 38,
      "outputs": [
        {
          "output_type": "execute_result",
          "data": {
            "text/plain": [
              "6"
            ]
          },
          "metadata": {},
          "execution_count": 38
        }
      ]
    },
    {
      "cell_type": "markdown",
      "source": [
        "Dimensions of X is 6"
      ],
      "metadata": {
        "id": "-l-bZkeBtG1r"
      }
    },
    {
      "cell_type": "code",
      "source": [
        "f.shape[0]"
      ],
      "metadata": {
        "colab": {
          "base_uri": "https://localhost:8080/"
        },
        "id": "fNaXwq65tFCN",
        "outputId": "f6090036-1fed-4421-cd88-31c86823169d"
      },
      "execution_count": 29,
      "outputs": [
        {
          "output_type": "execute_result",
          "data": {
            "text/plain": [
              "3"
            ]
          },
          "metadata": {},
          "execution_count": 29
        }
      ]
    },
    {
      "cell_type": "markdown",
      "source": [
        "Dimensions of filter is 3"
      ],
      "metadata": {
        "id": "teMe8PthtPT7"
      }
    },
    {
      "cell_type": "code",
      "source": [
        "f.shape[0] * f.shape[1]"
      ],
      "metadata": {
        "colab": {
          "base_uri": "https://localhost:8080/"
        },
        "id": "t8xxGtGXtNzl",
        "outputId": "fd1e16a5-61cb-4e3a-d660-0a764193ef23"
      },
      "execution_count": 30,
      "outputs": [
        {
          "output_type": "execute_result",
          "data": {
            "text/plain": [
              "9"
            ]
          },
          "metadata": {},
          "execution_count": 30
        }
      ]
    },
    {
      "cell_type": "markdown",
      "source": [
        "Parameters of kernel is 9"
      ],
      "metadata": {
        "id": "JUqzGtkQtVMJ"
      }
    },
    {
      "cell_type": "markdown",
      "source": [
        "Formula to Convolution layer C = ((n-f+2p)/s)+1 \n",
        "\n",
        "n = size of input matrix\n",
        "\n",
        "f = size of the filter\n",
        "\n",
        "p is the Padding\n",
        "\n",
        "s = Stride\n",
        "\n",
        "SO, n= 6,f =3,p=0,s =1\n",
        "\n",
        "C=((6-3+2x0)/1)+1=4\n",
        "\n",
        "Output Convolutional matrix will be of size  4 X 4.\n",
        "\n",
        "Calculating Matrix \n",
        "\n",
        "=>7*1+5*0+0*-1+6*2+4*0+5*-2+9*1+0*0+(-1)*2 =>7+0+0+12+0-10+9=28-10=18\n",
        "\n",
        "=> 5*1+0+0+4*2+0+1*-2+0+0+2*-1 =>9\n",
        "\n",
        "=> 0+0+-3+5*2+0+4*-2+2*1+0+5*-1 => -4\n",
        "\n",
        "=> 0+0+2*-1+1*2+0+8*-2+2*1+0+4*-1 => -18\n",
        "\n",
        "Similarly \n",
        "2nd row => 17,-3,10,-12\n",
        "3rd row => 11,-9,-17,2\n",
        "4rth row => 9, -1, -15, 16\n",
        "\n",
        "Entire Convolutional Matrix is\n",
        "\n",
        "\n",
        "18\t9\t-4\t-18\n",
        "17\t-3\t-10\t-12\n",
        "11\t-9\t-17\t2\n",
        "9\t-1\t-15\t16\n",
        "\n",
        "\n",
        "\n",
        "Max pooling \n",
        "\n",
        "This selects the max values of all the matrix in each filter which is 3 X 3 with stride 1 from the convolutional matrix above\n",
        "\n",
        "max(18,9,-4,17,-3,-10,11,-9,-17)=18\n",
        "max(9,-4,-18,-3,-10,-12,-9,-17,2) = 9\n",
        "max(17,-3,-10,11,-9,-17,9,-1,-15) = 17\n",
        "max(9-3,-10,-12,-9,-17,2,-1,-15,16) = 16\n",
        "\n",
        "Hence the final Max pooling matrix is \n",
        "18\t9\n",
        "17\t16"
      ],
      "metadata": {
        "id": "UNLO0NIKxC4Q"
      }
    },
    {
      "cell_type": "code",
      "source": [],
      "metadata": {
        "id": "2K1QPBVt08dD"
      },
      "execution_count": null,
      "outputs": []
    }
  ]
}