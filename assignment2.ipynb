{
  "nbformat": 4,
  "nbformat_minor": 0,
  "metadata": {
    "colab": {
      "provenance": [],
      "name": "assignment2.ipynb",
      "authorship_tag": "ABX9TyNAQW2d5tWUodhZYI0K0bgZ",
      "include_colab_link": true
    },
    "kernelspec": {
      "name": "python3",
      "display_name": "Python 3"
    },
    "language_info": {
      "name": "python"
    }
  },
  "cells": [
    {
      "cell_type": "markdown",
      "metadata": {
        "id": "view-in-github",
        "colab_type": "text"
      },
      "source": [
        "<a href=\"https://colab.research.google.com/github/dTony33/Machine-Learning/blob/main/assignment2.ipynb\" target=\"_parent\"><img src=\"https://colab.research.google.com/assets/colab-badge.svg\" alt=\"Open In Colab\"/></a>"
      ]
    },
    {
      "cell_type": "code",
      "execution_count": 108,
      "metadata": {
        "colab": {
          "base_uri": "https://localhost:8080/"
        },
        "id": "riUeMtDaHaqB",
        "outputId": "eda04fd3-9250-43b7-f3ff-c2cc9d42e660"
      },
      "outputs": [
        {
          "output_type": "stream",
          "name": "stdout",
          "text": [
            "Drive already mounted at /content/drive; to attempt to forcibly remount, call drive.mount(\"/content/drive\", force_remount=True).\n"
          ]
        }
      ],
      "source": [
        "from google.colab import drive\n",
        "drive.mount('/content/drive')"
      ]
    },
    {
      "cell_type": "code",
      "source": [
        "X2 = '/content/drive/MyDrive/ML Datasets/Assignment_2_datasets/X_test.csv'\n",
        "X1 = '/content/drive/MyDrive/ML Datasets/Assignment_2_datasets/X_train.csv'\n",
        "y1 = '/content/drive/MyDrive/ML Datasets/Assignment_2_datasets/Y_train.csv'\n",
        "y2 = '/content/drive/MyDrive/ML Datasets/Assignment_2_datasets/Y_test.csv'"
      ],
      "metadata": {
        "id": "-rzx_jiXHiYj"
      },
      "execution_count": 109,
      "outputs": []
    },
    {
      "cell_type": "code",
      "source": [
        "import numpy as np\n",
        "X_train = np.loadtxt(X1)\n",
        "X_test = np.loadtxt(X2)\n",
        "y_train = np.loadtxt(y1)\n",
        "y_train = y_train.reshape(100,1)\n",
        "y_test = np.loadtxt(y2)\n",
        "\n",
        "y_test = y_test.reshape(50,1)\n",
        "\n",
        "l_rate=0.001"
      ],
      "metadata": {
        "id": "38xfmXOEJDc6"
      },
      "execution_count": 110,
      "outputs": []
    },
    {
      "cell_type": "code",
      "source": [
        "def create_structure(X,Y):\n",
        "  input_layer = X.shape[1]  #size of input layer\n",
        "  hidden_layer = 10 #just taking multiple of 2\n",
        "  output_layer = Y.shape[1] #size of output layer\n",
        "  return input_layer,hidden_layer,output_layer"
      ],
      "metadata": {
        "id": "U7M6m42AKtZQ"
      },
      "execution_count": 111,
      "outputs": []
    },
    {
      "cell_type": "code",
      "source": [
        "inp,hid,out = create_structure(X_train,y_train)\n",
        "print(inp,hid,out)"
      ],
      "metadata": {
        "id": "Ebps9kMlLcdV",
        "outputId": "9142fe95-b163-4c1b-e4fd-77e237fb7e65",
        "colab": {
          "base_uri": "https://localhost:8080/"
        }
      },
      "execution_count": 112,
      "outputs": [
        {
          "output_type": "stream",
          "name": "stdout",
          "text": [
            "2 10 1\n"
          ]
        }
      ]
    },
    {
      "cell_type": "code",
      "source": [
        "def weights_and_bias(input_layer,hidden_layer,output_layer):\n",
        "  w1 = np.random.uniform(size = (input_layer,hidden_layer))\n",
        "  b1 = np.zeros((1,hidden_layer))\n",
        "  w2 = np.random.uniform(size=(hidden_layer,output_layer))\n",
        "  b2 = np.zeros((1,output_layer))\n",
        "  params = {'w1':w1,'b1': b1,'w2':w2,'b2':b2}\n",
        "  return params"
      ],
      "metadata": {
        "id": "mEDogmtpLuBm"
      },
      "execution_count": 113,
      "outputs": []
    },
    {
      "cell_type": "code",
      "source": [
        "params = weights_and_bias(2,10,1)\n",
        "params"
      ],
      "metadata": {
        "id": "IsrpzL89NJ78",
        "outputId": "79f03bd6-cd19-4f32-944b-c998f329d3c6",
        "colab": {
          "base_uri": "https://localhost:8080/"
        }
      },
      "execution_count": 114,
      "outputs": [
        {
          "output_type": "execute_result",
          "data": {
            "text/plain": [
              "{'w1': array([[0.56976127, 0.16578434, 0.57620638, 0.76869048, 0.89839511,\n",
              "         0.68834364, 0.07438878, 0.67049168, 0.70354578, 0.86976829],\n",
              "        [0.63224343, 0.50710868, 0.80125775, 0.01578747, 0.63718159,\n",
              "         0.39143953, 0.70581284, 0.010547  , 0.97213315, 0.67703157]]),\n",
              " 'b1': array([[0., 0., 0., 0., 0., 0., 0., 0., 0., 0.]]),\n",
              " 'w2': array([[0.46173571],\n",
              "        [0.95662676],\n",
              "        [0.33579818],\n",
              "        [0.65974979],\n",
              "        [0.20074396],\n",
              "        [0.3011211 ],\n",
              "        [0.60872187],\n",
              "        [0.98948864],\n",
              "        [0.40228348],\n",
              "        [0.18443028]]),\n",
              " 'b2': array([[0.]])}"
            ]
          },
          "metadata": {},
          "execution_count": 114
        }
      ]
    },
    {
      "cell_type": "code",
      "source": [
        "def sigmoid(x, derivative=False):\n",
        "        if derivative:\n",
        "            return (np.exp(-x))/((np.exp(-x)+1)**2)\n",
        "        return 1/(1 + np.exp(-x))\n",
        "def softmax(x, derivative=False):\n",
        "        # Numerically stable with large exponentials\n",
        "        exps = np.exp(x - x.max())\n",
        "        if derivative:\n",
        "            return exps / np.sum(exps, axis=0) * (1 - exps / np.sum(exps, axis=0))\n",
        "        return exps / np.sum(exps, axis=0)"
      ],
      "metadata": {
        "id": "gK5dzwy1JnEx"
      },
      "execution_count": 115,
      "outputs": []
    },
    {
      "cell_type": "code",
      "source": [
        "def forward_pass(X,parameters):\n",
        "  w1 = parameters['w1']\n",
        "  b1 = parameters['b1']\n",
        "  w2 = parameters['w2']\n",
        "  b2 = parameters['b2']\n",
        "\n",
        "  z1 = np.dot(X,w1)+b1\n",
        "  a1 = sigmoid(z1)\n",
        "  z2 = np.dot(a1,w2)+b2\n",
        "  a2 = softmax(a1)\n",
        "  params = {'z1': z1, 'a1':a1, 'z2': z2, 'a2':a2}\n",
        "  return a2,params"
      ],
      "metadata": {
        "id": "skOg3WzWJSHT"
      },
      "execution_count": 116,
      "outputs": []
    },
    {
      "cell_type": "code",
      "source": [
        "def back_propagation(X,Y, parameters, params):\n",
        "  num = X.shape[0]\n",
        "\n",
        "  w1 = parameters['w1']\n",
        "  w2 = parameters['w2']\n",
        "  a1 = params['a1']\n",
        "  a2 = params['a2']\n",
        "\n",
        "  dz2 = a2-Y\n",
        "  dw2 = (1/num) * np.dot(dz2,a1.T)\n",
        "  db2 = (1/num) * np.sum(dz2,axis = 1,keepdims=True)\n",
        "  dz1 = np.multiply(np.dot(w2.T,dz2), 1- np.power(a1,2))\n",
        "  dw1 = (1/num) * np.dot(dz1, X.T)\n",
        "  db1 = (1/num) * np.sum(dz1, axis =1, keepdims=True)\n",
        "\n",
        "  values = {\"dw1\": dw1, \"db1\": db1, \"dw2\": dw2,\"db2\": db2}\n",
        "  return values"
      ],
      "metadata": {
        "id": "pO-AvBdj3hAf"
      },
      "execution_count": 117,
      "outputs": []
    },
    {
      "cell_type": "code",
      "source": [
        "def gradient_descent(parameters, grads, learning_rate):\n",
        "    w1 = parameters['w1']\n",
        "    b1 = parameters['b1']\n",
        "    w2 = parameters['w2']\n",
        "    b2 = parameters['b2']\n",
        "   \n",
        "    dw1 = grads['dw1']\n",
        "    db1 = grads['db1']\n",
        "    dw2 = grads['dw2']\n",
        "    db2 = grads['db2']\n",
        "    w1 = w1 - learning_rate * dw1\n",
        "    b1 = b1 - learning_rate * db1\n",
        "    w2 = w2 - learning_rate * dw2\n",
        "    b2 = b2 - learning_rate * db2\n",
        "    \n",
        "    parameters = {\"w1\": w1, \"b1\": b1,\"w2\": w2,\"b2\": b2}\n",
        "    \n",
        "    return parameters"
      ],
      "metadata": {
        "id": "85pRjDSnQYuL"
      },
      "execution_count": 118,
      "outputs": []
    },
    {
      "cell_type": "code",
      "source": [
        "def mse(y_true, y_pred):\n",
        "    return np.mean(np.power(y_true-y_pred, 2));"
      ],
      "metadata": {
        "id": "KPXLdWO5Fbm0"
      },
      "execution_count": 119,
      "outputs": []
    },
    {
      "cell_type": "code",
      "source": [
        "def model(X,Y,epochs = 10000):\n",
        "  input_layer,hidden_layer,output_layer = create_structure(X,Y)\n",
        "  parameters = weights_and_bias(input_layer,hidden_layer,output_layer)\n",
        "  w1 = parameters['w1']\n",
        "  b1 = parameters['b1']\n",
        "  w2 = parameters['w2']\n",
        "  b2 = parameters['b2']\n",
        "  for i in range(0,epochs):\n",
        "    a2, wb = forward_pass(X,parameters)\n",
        "    mse_error = mse(Y,a2)\n",
        "    bp = back_propagation(X,Y,parameters,wb)\n",
        "    parameters = gradient_descent(parameters,bp)\n",
        "    if i % 10 == 0:\n",
        "      print(\"MSE after %i epochs: %f\" %(i, mse_error))\n",
        "  return parameters\n",
        "\n",
        "      \n",
        "  "
      ],
      "metadata": {
        "id": "aoOm5_O11bOW"
      },
      "execution_count": 120,
      "outputs": []
    },
    {
      "cell_type": "code",
      "source": [
        "parameters = model(X_train,y_train)"
      ],
      "metadata": {
        "id": "qja0rd_GThKQ",
        "outputId": "1be684ba-2f3e-4a76-c241-fdf5017e8c01",
        "colab": {
          "base_uri": "https://localhost:8080/",
          "height": 346
        }
      },
      "execution_count": 121,
      "outputs": [
        {
          "output_type": "error",
          "ename": "ValueError",
          "evalue": "ignored",
          "traceback": [
            "\u001b[0;31m---------------------------------------------------------------------------\u001b[0m",
            "\u001b[0;31mValueError\u001b[0m                                Traceback (most recent call last)",
            "\u001b[0;32m<ipython-input-121-e04860bc7a4a>\u001b[0m in \u001b[0;36m<module>\u001b[0;34m\u001b[0m\n\u001b[0;32m----> 1\u001b[0;31m \u001b[0mparameters\u001b[0m \u001b[0;34m=\u001b[0m \u001b[0mmodel\u001b[0m\u001b[0;34m(\u001b[0m\u001b[0mX_train\u001b[0m\u001b[0;34m,\u001b[0m\u001b[0my_train\u001b[0m\u001b[0;34m)\u001b[0m\u001b[0;34m\u001b[0m\u001b[0;34m\u001b[0m\u001b[0m\n\u001b[0m",
            "\u001b[0;32m<ipython-input-120-8a8aa9cf46f7>\u001b[0m in \u001b[0;36mmodel\u001b[0;34m(X, Y, epochs)\u001b[0m\n\u001b[1;32m      9\u001b[0m     \u001b[0ma2\u001b[0m\u001b[0;34m,\u001b[0m \u001b[0mwb\u001b[0m \u001b[0;34m=\u001b[0m \u001b[0mforward_pass\u001b[0m\u001b[0;34m(\u001b[0m\u001b[0mX\u001b[0m\u001b[0;34m,\u001b[0m\u001b[0mparameters\u001b[0m\u001b[0;34m)\u001b[0m\u001b[0;34m\u001b[0m\u001b[0;34m\u001b[0m\u001b[0m\n\u001b[1;32m     10\u001b[0m     \u001b[0mmse_error\u001b[0m \u001b[0;34m=\u001b[0m \u001b[0mmse\u001b[0m\u001b[0;34m(\u001b[0m\u001b[0mY\u001b[0m\u001b[0;34m,\u001b[0m\u001b[0ma2\u001b[0m\u001b[0;34m)\u001b[0m\u001b[0;34m\u001b[0m\u001b[0;34m\u001b[0m\u001b[0m\n\u001b[0;32m---> 11\u001b[0;31m     \u001b[0mbp\u001b[0m \u001b[0;34m=\u001b[0m \u001b[0mback_propagation\u001b[0m\u001b[0;34m(\u001b[0m\u001b[0mX\u001b[0m\u001b[0;34m,\u001b[0m\u001b[0mY\u001b[0m\u001b[0;34m,\u001b[0m\u001b[0mparameters\u001b[0m\u001b[0;34m,\u001b[0m\u001b[0mwb\u001b[0m\u001b[0;34m)\u001b[0m\u001b[0;34m\u001b[0m\u001b[0;34m\u001b[0m\u001b[0m\n\u001b[0m\u001b[1;32m     12\u001b[0m     \u001b[0mparameters\u001b[0m \u001b[0;34m=\u001b[0m \u001b[0mgradient_descent\u001b[0m\u001b[0;34m(\u001b[0m\u001b[0mparameters\u001b[0m\u001b[0;34m,\u001b[0m\u001b[0mbp\u001b[0m\u001b[0;34m)\u001b[0m\u001b[0;34m\u001b[0m\u001b[0;34m\u001b[0m\u001b[0m\n\u001b[1;32m     13\u001b[0m     \u001b[0;32mif\u001b[0m \u001b[0mi\u001b[0m \u001b[0;34m%\u001b[0m \u001b[0;36m10\u001b[0m \u001b[0;34m==\u001b[0m \u001b[0;36m0\u001b[0m\u001b[0;34m:\u001b[0m\u001b[0;34m\u001b[0m\u001b[0;34m\u001b[0m\u001b[0m\n",
            "\u001b[0;32m<ipython-input-117-8e5855af4c4e>\u001b[0m in \u001b[0;36mback_propagation\u001b[0;34m(X, Y, parameters, params)\u001b[0m\n\u001b[1;32m     10\u001b[0m   \u001b[0mdw2\u001b[0m \u001b[0;34m=\u001b[0m \u001b[0;34m(\u001b[0m\u001b[0;36m1\u001b[0m\u001b[0;34m/\u001b[0m\u001b[0mnum\u001b[0m\u001b[0;34m)\u001b[0m \u001b[0;34m*\u001b[0m \u001b[0mnp\u001b[0m\u001b[0;34m.\u001b[0m\u001b[0mdot\u001b[0m\u001b[0;34m(\u001b[0m\u001b[0mdz2\u001b[0m\u001b[0;34m,\u001b[0m\u001b[0ma1\u001b[0m\u001b[0;34m.\u001b[0m\u001b[0mT\u001b[0m\u001b[0;34m)\u001b[0m\u001b[0;34m\u001b[0m\u001b[0;34m\u001b[0m\u001b[0m\n\u001b[1;32m     11\u001b[0m   \u001b[0mdb2\u001b[0m \u001b[0;34m=\u001b[0m \u001b[0;34m(\u001b[0m\u001b[0;36m1\u001b[0m\u001b[0;34m/\u001b[0m\u001b[0mnum\u001b[0m\u001b[0;34m)\u001b[0m \u001b[0;34m*\u001b[0m \u001b[0mnp\u001b[0m\u001b[0;34m.\u001b[0m\u001b[0msum\u001b[0m\u001b[0;34m(\u001b[0m\u001b[0mdz2\u001b[0m\u001b[0;34m,\u001b[0m\u001b[0maxis\u001b[0m \u001b[0;34m=\u001b[0m \u001b[0;36m1\u001b[0m\u001b[0;34m,\u001b[0m\u001b[0mkeepdims\u001b[0m\u001b[0;34m=\u001b[0m\u001b[0;32mTrue\u001b[0m\u001b[0;34m)\u001b[0m\u001b[0;34m\u001b[0m\u001b[0;34m\u001b[0m\u001b[0m\n\u001b[0;32m---> 12\u001b[0;31m   \u001b[0mdz1\u001b[0m \u001b[0;34m=\u001b[0m \u001b[0mnp\u001b[0m\u001b[0;34m.\u001b[0m\u001b[0mmultiply\u001b[0m\u001b[0;34m(\u001b[0m\u001b[0mnp\u001b[0m\u001b[0;34m.\u001b[0m\u001b[0mdot\u001b[0m\u001b[0;34m(\u001b[0m\u001b[0mw2\u001b[0m\u001b[0;34m.\u001b[0m\u001b[0mT\u001b[0m\u001b[0;34m,\u001b[0m\u001b[0mdz2\u001b[0m\u001b[0;34m)\u001b[0m\u001b[0;34m,\u001b[0m \u001b[0;36m1\u001b[0m\u001b[0;34m-\u001b[0m \u001b[0mnp\u001b[0m\u001b[0;34m.\u001b[0m\u001b[0mpower\u001b[0m\u001b[0;34m(\u001b[0m\u001b[0ma1\u001b[0m\u001b[0;34m,\u001b[0m\u001b[0;36m2\u001b[0m\u001b[0;34m)\u001b[0m\u001b[0;34m)\u001b[0m\u001b[0;34m\u001b[0m\u001b[0;34m\u001b[0m\u001b[0m\n\u001b[0m\u001b[1;32m     13\u001b[0m   \u001b[0mdw1\u001b[0m \u001b[0;34m=\u001b[0m \u001b[0;34m(\u001b[0m\u001b[0;36m1\u001b[0m\u001b[0;34m/\u001b[0m\u001b[0mnum\u001b[0m\u001b[0;34m)\u001b[0m \u001b[0;34m*\u001b[0m \u001b[0mnp\u001b[0m\u001b[0;34m.\u001b[0m\u001b[0mdot\u001b[0m\u001b[0;34m(\u001b[0m\u001b[0mdz1\u001b[0m\u001b[0;34m,\u001b[0m \u001b[0mX\u001b[0m\u001b[0;34m.\u001b[0m\u001b[0mT\u001b[0m\u001b[0;34m)\u001b[0m\u001b[0;34m\u001b[0m\u001b[0;34m\u001b[0m\u001b[0m\n\u001b[1;32m     14\u001b[0m   \u001b[0mdb1\u001b[0m \u001b[0;34m=\u001b[0m \u001b[0;34m(\u001b[0m\u001b[0;36m1\u001b[0m\u001b[0;34m/\u001b[0m\u001b[0mnum\u001b[0m\u001b[0;34m)\u001b[0m \u001b[0;34m*\u001b[0m \u001b[0mnp\u001b[0m\u001b[0;34m.\u001b[0m\u001b[0msum\u001b[0m\u001b[0;34m(\u001b[0m\u001b[0mdz1\u001b[0m\u001b[0;34m,\u001b[0m \u001b[0maxis\u001b[0m \u001b[0;34m=\u001b[0m\u001b[0;36m1\u001b[0m\u001b[0;34m,\u001b[0m \u001b[0mkeepdims\u001b[0m\u001b[0;34m=\u001b[0m\u001b[0;32mTrue\u001b[0m\u001b[0;34m)\u001b[0m\u001b[0;34m\u001b[0m\u001b[0;34m\u001b[0m\u001b[0m\n",
            "\u001b[0;32m<__array_function__ internals>\u001b[0m in \u001b[0;36mdot\u001b[0;34m(*args, **kwargs)\u001b[0m\n",
            "\u001b[0;31mValueError\u001b[0m: shapes (1,10) and (100,10) not aligned: 10 (dim 1) != 100 (dim 0)"
          ]
        }
      ]
    },
    {
      "cell_type": "code",
      "source": [
        "model(X_train,y_train)"
      ],
      "metadata": {
        "id": "CKfdz2AURhyx",
        "outputId": "dc4e1ef4-ba08-4f4a-fc65-ae4bf33523b8",
        "colab": {
          "base_uri": "https://localhost:8080/"
        }
      },
      "execution_count": 39,
      "outputs": [
        {
          "output_type": "stream",
          "name": "stdout",
          "text": [
            "2 10 1\n"
          ]
        }
      ]
    },
    {
      "cell_type": "code",
      "source": [],
      "metadata": {
        "id": "tohyJmjLRklK"
      },
      "execution_count": null,
      "outputs": []
    }
  ]
}