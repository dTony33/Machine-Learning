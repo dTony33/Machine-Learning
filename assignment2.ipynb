{
  "nbformat": 4,
  "nbformat_minor": 0,
  "metadata": {
    "colab": {
      "provenance": [],
      "toc_visible": true,
      "authorship_tag": "ABX9TyOJo933FGUeMlT5pnuxWrgb",
      "include_colab_link": true
    },
    "kernelspec": {
      "name": "python3",
      "display_name": "Python 3"
    },
    "language_info": {
      "name": "python"
    }
  },
  "cells": [
    {
      "cell_type": "markdown",
      "metadata": {
        "id": "view-in-github",
        "colab_type": "text"
      },
      "source": [
        "<a href=\"https://colab.research.google.com/github/dTony33/Machine-Learning/blob/main/assignment2.ipynb\" target=\"_parent\"><img src=\"https://colab.research.google.com/assets/colab-badge.svg\" alt=\"Open In Colab\"/></a>"
      ]
    },
    {
      "cell_type": "code",
      "execution_count": null,
      "metadata": {
        "colab": {
          "base_uri": "https://localhost:8080/"
        },
        "id": "riUeMtDaHaqB",
        "outputId": "b5fdbdc2-87dc-4374-bac7-d3d7a0d49e60"
      },
      "outputs": [
        {
          "output_type": "stream",
          "name": "stdout",
          "text": [
            "Mounted at /content/drive\n"
          ]
        }
      ],
      "source": [
        "from google.colab import drive\n",
        "drive.mount('/content/drive')"
      ]
    },
    {
      "cell_type": "code",
      "source": [
        "X2 = '/content/drive/MyDrive/ML Datasets/Assignment_2_datasets/X_test.csv'\n",
        "X1 = '/content/drive/MyDrive/ML Datasets/Assignment_2_datasets/X_train.csv'\n",
        "y1 = '/content/drive/MyDrive/ML Datasets/Assignment_2_datasets/Y_train.csv'\n",
        "y2 = '/content/drive/MyDrive/ML Datasets/Assignment_2_datasets/Y_test.csv'"
      ],
      "metadata": {
        "id": "-rzx_jiXHiYj"
      },
      "execution_count": null,
      "outputs": []
    },
    {
      "cell_type": "code",
      "source": [
        "import numpy as np\n",
        "X_train = np.loadtxt(X1)\n",
        "X_test = np.loadtxt(X2)\n",
        "y_train = np.loadtxt(y1)\n",
        "y_train = y_train.reshape(100,1)\n",
        "y_test = np.loadtxt(y2)\n",
        "\n",
        "y_test = y_test.reshape(50,1)\n",
        "outputLayer_neurons = 1\n",
        "input_layer = X_train.shape[0]\n",
        "hidden_layer = 10\n",
        "output_layer = 1\n",
        "epochs=100\n",
        "l_rate=0.001"
      ],
      "metadata": {
        "id": "38xfmXOEJDc6"
      },
      "execution_count": null,
      "outputs": []
    },
    {
      "cell_type": "code",
      "source": [
        "def init_params():\n",
        "    W1 = np.random.uniform(size=(input_layer,hidden_layer)) * np.sqrt(1./hidden_layer)\n",
        "    b1 = np.random.uniform(size=(X_train.shape[1],hidden_layer,)) * np.sqrt(1./hidden_layer)\n",
        "    W2 = np.random.uniform(size=(hidden_layer,output_layer)) * np.sqrt(1./output_layer)\n",
        "    b2 = np.p.random.uniform(size=(1,input_layer)) * np.sqrt(1./input_layer)\n",
        "    return W1, b1, W2, b2"
      ],
      "metadata": {
        "id": "6JWtMnoag9yK"
      },
      "execution_count": null,
      "outputs": []
    },
    {
      "cell_type": "code",
      "source": [
        "# w1 = np.random.uniform(size=(10,input_layer)) * np.sqrt(1./hidden_layer)\n",
        "# # b1 = np.random.uniform(size=(X_train.shape[1],1)) * np.sqrt(1./(10))\n",
        "# # W1 = np.random.uniform(size=(X_train.shape[1],100)) * np.sqrt(1./(784))\n",
        "# #  W1 = np.random.normal(size=(10, 784)) \n",
        "# #     b1 = np.random.normal(size=(10, 1)) * np.sqrt(1./10)\n",
        "# #     W2 = np.random.normal(size=(10, 10)) * np.sqrt(1./20)\n",
        "# #     b2 = np.random.normal(size=(10, 1)) * np.sqrt(1./(784))\n"
      ],
      "metadata": {
        "id": "yR41wo9RzvzK"
      },
      "execution_count": null,
      "outputs": []
    },
    {
      "cell_type": "code",
      "source": [
        "w2 = np.random.uniform(size=(output_layer,hidden_layer)) * np.sqrt(1./hidden_layer)\n",
        "b2 = np.random.uniform(size=(2,1)) * np.sqrt(1./(100))"
      ],
      "metadata": {
        "id": "1nc_j0AC-1oX"
      },
      "execution_count": null,
      "outputs": []
    },
    {
      "cell_type": "code",
      "source": [
        "def sigmoid(x, derivative=False):\n",
        "        if derivative:\n",
        "            return (np.exp(-x))/((np.exp(-x)+1)**2)\n",
        "        return 1/(1 + np.exp(-x))\n",
        "def softmax(x, derivative=False):\n",
        "        # Numerically stable with large exponentials\n",
        "        exps = np.exp(x - x.max())\n",
        "        if derivative:\n",
        "            return exps / np.sum(exps, axis=0) * (1 - exps / np.sum(exps, axis=0))\n",
        "        return exps / np.sum(exps, axis=0)"
      ],
      "metadata": {
        "id": "gK5dzwy1JnEx"
      },
      "execution_count": null,
      "outputs": []
    },
    {
      "cell_type": "code",
      "source": [
        "def forward_pass(x_train,w1,w2,b1,b2):\n",
        "        # params = self.params\n",
        "\n",
        "        # input layer activations becomes sample\n",
        "        a0 = x_train\n",
        "\n",
        "        # input layer to hidden layer 1\n",
        "        z1 = np.dot(w1, a0)\n",
        "        a1 = z1 + b1\n",
        "        f1 = sigmoid(a1)\n",
        "\n",
        "        # hidden layer 1 to output layer\n",
        "        z2= np.dot(w2, a1)\n",
        "        a2 = z2 + b2\n",
        "        f2 = softmax(a2)\n",
        "\n",
        "        return \n",
        "\n",
        "def backward_pass(y_train, output):\n",
        "        '''\n",
        "            This is the backpropagation algorithm, for calculating the updates\n",
        "            of the neural network's parameters.\n",
        "\n",
        "            Note: There is a stability issue that causes warnings. This is \n",
        "                  caused  by the dot and multiply operations on the huge arrays.\n",
        "                  \n",
        "                  RuntimeWarning: invalid value encountered in true_divide\n",
        "                  RuntimeWarning: overflow encountered in exp\n",
        "                  RuntimeWarning: overflow encountered in square\n",
        "        '''\n",
        "\n",
        "        # Calculate W3 update\n",
        "        error = 2 * (output - y_train) / output.shape[0] * self.softmax(z2, derivative=True)\n",
        "        change_w['W3'] = np.outer(error, params['A2'])\n",
        "\n",
        "        # Calculate W2 update\n",
        "        error = np.dot(params['W3'].T, error) * self.sigmoid(params['Z2'], derivative=True)\n",
        "        change_w['W2'] = np.outer(error, params['A1'])\n",
        "\n",
        "        # Calculate W1 update\n",
        "        error = np.dot(params['W2'].T, error) * self.sigmoid(params['Z1'], derivative=True)\n",
        "        change_w['W1'] = np.outer(error, params['A0'])\n",
        "\n",
        "        return change_w"
      ],
      "metadata": {
        "id": "KQbvLMK7IYCs"
      },
      "execution_count": null,
      "outputs": []
    },
    {
      "cell_type": "code",
      "source": [],
      "metadata": {
        "id": "skOg3WzWJSHT"
      },
      "execution_count": null,
      "outputs": []
    },
    {
      "cell_type": "code",
      "source": [],
      "metadata": {
        "id": "pO-AvBdj3hAf"
      },
      "execution_count": null,
      "outputs": []
    },
    {
      "cell_type": "code",
      "source": [
        "out = sigmoid(X_train)\n",
        "import matplotlib.pyplot as plt\n",
        "plt.plot(X_train,out)\n",
        "plt.xlabel('input')\n",
        "plt.ylabel('out')\n"
      ],
      "metadata": {
        "colab": {
          "base_uri": "https://localhost:8080/",
          "height": 296
        },
        "id": "XKGGesAa54aa",
        "outputId": "a14db807-4e62-42a9-f3a8-8fd5f1b034c7"
      },
      "execution_count": null,
      "outputs": [
        {
          "output_type": "execute_result",
          "data": {
            "text/plain": [
              "Text(0, 0.5, 'out')"
            ]
          },
          "metadata": {},
          "execution_count": 56
        },
        {
          "output_type": "display_data",
          "data": {
            "text/plain": [
              "<Figure size 432x288 with 1 Axes>"
            ],
            "image/png": "[encoded data removed]"
          },
          "metadata": {
            "needs_background": "light"
          }
        }
      ]
    },
    {
      "cell_type": "code",
      "source": [
        "def mse(y_true, y_pred):\n",
        "    return np.mean(np.power(y_true-y_pred, 2));"
      ],
      "metadata": {
        "id": "KPXLdWO5Fbm0"
      },
      "execution_count": null,
      "outputs": []
    },
    {
      "cell_type": "code",
      "source": [
        "X_train_transpose = X_train.T\n",
        "y_train_transpose = y_train.T\n",
        "X_test_transpose = X_test.T\n",
        "y_test_transpose = y_test.T"
      ],
      "metadata": {
        "id": "BKR9umkEJwzN"
      },
      "execution_count": null,
      "outputs": []
    },
    {
      "cell_type": "code",
      "source": [
        "inputLayer_neurons = X_train.shape[0]  # number of features in data set\n",
        "hiddenLayer_neurons = 3  # number of hidden layers neurons\n",
        "outputLayer_neurons = 1  # number of neurons at output layer"
      ],
      "metadata": {
        "id": "bUWzDmza1LjC"
      },
      "execution_count": null,
      "outputs": []
    },
    {
      "cell_type": "code",
      "source": [],
      "metadata": {
        "id": "aoOm5_O11bOW"
      },
      "execution_count": null,
      "outputs": []
    }
  ]
}